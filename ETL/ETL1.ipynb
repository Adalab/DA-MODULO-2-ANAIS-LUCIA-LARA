{
 "cells": [
  {
   "cell_type": "markdown",
   "metadata": {},
   "source": [
    "USA\n",
    "39.7837304\n",
    "-100.445882\n",
    "\n",
    "Australia\n",
    "-24.7761086\n",
    "134.755\n",
    "\n",
    "South Africa\n",
    "-28.8166236\n",
    "24.991639\n",
    "\n",
    "New Zealand\n",
    "-41.5000831\n",
    "172.8344077\n",
    "\n",
    "Papua New Guinea\n",
    "-5.6816069\n",
    "144.2489081"
   ]
  },
  {
   "cell_type": "markdown",
   "metadata": {},
   "source": [
    "url = f'http://www.7timer.info/bin/api.pl?lon=-{lon}&lat={lat}&product={producto}&output=json'"
   ]
  },
  {
   "cell_type": "markdown",
   "metadata": {},
   "source": [
    "- Deberéis meter toda la información climática en un único dataframe.\n",
    "\n",
    "- Deberéis hacer la llamada a la API de una sola vez. Es decir, tendréis que iterar por la lista de países y sacar la información del clima para cada uno de ellos.\n",
    "\n",
    "- Al meter toda la información en un único dataframe tendremos que crear una columna que corresponda con el nombre del país.\n",
    "\n",
    "- Guardar el dataframe obtenido para usarlo en la siguiente sesión de pair programming.\n",
    "\n",
    "💡 Pistas 💡:\n",
    "\n",
    "- Crearos un diccionario donde:\n",
    "\n",
    "- Las keys sean los nombres de los paises\n",
    "\n",
    "- Los values sean las coordenadas de los paises en formato lista.\n",
    "\n",
    "- Iterar por el diccionario. Dentro del for haremos la llamada a la API como hemos aprendido en las \n",
    "clases invertidas. Recordamos que para iterar por el diccionario tenemos que seguir la siguiente estructura:\n",
    "\n",
    "    for key, value in diccionario.items():\n",
    "   \n",
    "    print(key, value)\n",
    "\n",
    "- Crearnos un dataframe vacío donde iremos concatenando los datos obtenidos de la API cada país.\n",
    "\n",
    "- Guardad el csv ya que mañana lo necesitaremos para hacer el ejercicio de pair programming."
   ]
  },
  {
   "cell_type": "code",
   "execution_count": 2,
   "metadata": {},
   "outputs": [],
   "source": [
    "from IPython.core.interactiveshell import InteractiveShell # Nos permite mostar más de una salida por celda\n",
    "InteractiveShell.ast_node_interactivity = \"all\" # Nos permite mostar más de una salida por celda\n",
    "\n",
    "import requests\n",
    "import pandas as pd\n",
    "import numpy as np"
   ]
  },
  {
   "cell_type": "code",
   "execution_count": 28,
   "metadata": {},
   "outputs": [],
   "source": [
    "# si lo ejecutamos cómo función la variable df_final no se nos guarda. REVISAR!\n",
    "\n",
    "def paises(producto):\n",
    "\n",
    "    df_final= pd.DataFrame()\n",
    "    diccionario = {\"USA\": [39.7837304, -100.445882], \"Australia\": [-24.7761086, 134.755], \"South Africa\": [-28.8166236, 24.991639], \"New Zealand\": [-41.5000831, 172.8344077], \"Papua New Guinea\": [-5.6816069, 144.2489081]}\n",
    "\n",
    "    for key, value in diccionario.items():\n",
    "        \n",
    "        url = f'http://www.7timer.info/bin/api.pl?lon=-{value[1]}&lat={value[0]}&product={producto}&output=json'\n",
    "        response = requests.get(url)\n",
    "        df= pd.json_normalize(response.json()[\"dataseries\"])\n",
    "        df[\"latitud\"] = value[0]\n",
    "        df[\"longitud\"] = value[1]\n",
    "        df[\"paises\"] = key\n",
    "        df_final=pd.concat([df_final, df], axis= 0, ignore_index=True)\n",
    "    \n",
    "    return df_final\n"
   ]
  },
  {
   "cell_type": "code",
   "execution_count": 33,
   "metadata": {},
   "outputs": [],
   "source": [
    "df_final= pd.DataFrame()\n",
    "diccionario = {\"USA\": [39.7837304, -100.445882], \"Australia\": [-24.7761086, 134.755], \"South Africa\": [-28.8166236, 24.991639], \"New Zealand\": [-41.5000831, 172.8344077], \"Papua New Guinea\": [-5.6816069, 144.2489081]}\n",
    "\n",
    "for key, value in diccionario.items():\n",
    "        \n",
    "    url = f'http://www.7timer.info/bin/api.pl?lon=-{value[1]}&lat={value[0]}&product=meteo&output=json'\n",
    "    response = requests.get(url)\n",
    "    df= pd.json_normalize(response.json()[\"dataseries\"])\n",
    "    df[\"latitud\"] = value[0]\n",
    "    df[\"longitud\"] = value[1]\n",
    "    df[\"paises\"] = key\n",
    "    df_final=pd.concat([df_final, df], axis= 0, ignore_index=True)"
   ]
  },
  {
   "cell_type": "code",
   "execution_count": 41,
   "metadata": {},
   "outputs": [
    {
     "data": {
      "text/plain": [
       "0      [{'layer': '950mb', 'rh': 12}, {'layer': '900m...\n",
       "1      [{'layer': '950mb', 'rh': 8}, {'layer': '900mb...\n",
       "2      [{'layer': '950mb', 'rh': 6}, {'layer': '900mb...\n",
       "3      [{'layer': '950mb', 'rh': 4}, {'layer': '900mb...\n",
       "4      [{'layer': '950mb', 'rh': 2}, {'layer': '900mb...\n",
       "                             ...                        \n",
       "315    [{'layer': '950mb', 'rh': 15}, {'layer': '900m...\n",
       "316    [{'layer': '950mb', 'rh': 14}, {'layer': '900m...\n",
       "317    [{'layer': '950mb', 'rh': 13}, {'layer': '900m...\n",
       "318    [{'layer': '950mb', 'rh': 12}, {'layer': '900m...\n",
       "319    [{'layer': '950mb', 'rh': 12}, {'layer': '900m...\n",
       "Name: rh_profile, Length: 320, dtype: object"
      ]
     },
     "execution_count": 41,
     "metadata": {},
     "output_type": "execute_result"
    }
   ],
   "source": [
    "df_final[\"rh_profile\"]"
   ]
  },
  {
   "cell_type": "code",
   "execution_count": 37,
   "metadata": {},
   "outputs": [],
   "source": [
    "df_final.to_csv(\"../Ficheros/ETL1.csv\")"
   ]
  }
 ],
 "metadata": {
  "kernelspec": {
   "display_name": "Python 3.9.7 ('base')",
   "language": "python",
   "name": "python3"
  },
  "language_info": {
   "codemirror_mode": {
    "name": "ipython",
    "version": 3
   },
   "file_extension": ".py",
   "mimetype": "text/x-python",
   "name": "python",
   "nbconvert_exporter": "python",
   "pygments_lexer": "ipython3",
   "version": "3.9.7"
  },
  "orig_nbformat": 4,
  "vscode": {
   "interpreter": {
    "hash": "8a25273be94c3f568d6307c1258330d891164ee9551e6d3c1016426c9aa8bf5c"
   }
  }
 },
 "nbformat": 4,
 "nbformat_minor": 2
}
