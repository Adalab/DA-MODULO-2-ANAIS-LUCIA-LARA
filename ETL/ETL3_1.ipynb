{
 "cells": [
  {
   "cell_type": "code",
   "execution_count": 1,
   "metadata": {},
   "outputs": [],
   "source": [
    "import pandas as pd\n",
    "import mysql.connector"
   ]
  },
  {
   "cell_type": "markdown",
   "metadata": {},
   "source": [
    "Es el momento de meter todos nuestros datos en SQL 💪🏽!!! En este ejercicio nos crearemos dos tablas en una BBDD creada por nosotras. Una de las tablas contendrá la información que obtuvimos de los ejercicios de pair programming de Limpieza, es decir, el data set de ataques de tiburones limpito. La segunda tabla tendrá la información obtenida en el ejercicio de pair de ETL 1.\n",
    "\n",
    "1- Cread la BBDD con el nombre de tiburones."
   ]
  },
  {
   "cell_type": "code",
   "execution_count": 2,
   "metadata": {},
   "outputs": [],
   "source": [
    "df_ataques = pd.read_csv('../Ficheros/attack_limpieza5.csv', index_col= 0)\n",
    "df_clima = pd.read_csv('../Ficheros/ETL1.csv', index_col= 0)"
   ]
  },
  {
   "cell_type": "code",
   "execution_count": 3,
   "metadata": {},
   "outputs": [
    {
     "data": {
      "text/html": [
       "<div>\n",
       "<style scoped>\n",
       "    .dataframe tbody tr th:only-of-type {\n",
       "        vertical-align: middle;\n",
       "    }\n",
       "\n",
       "    .dataframe tbody tr th {\n",
       "        vertical-align: top;\n",
       "    }\n",
       "\n",
       "    .dataframe thead th {\n",
       "        text-align: right;\n",
       "    }\n",
       "</style>\n",
       "<table border=\"1\" class=\"dataframe\">\n",
       "  <thead>\n",
       "    <tr style=\"text-align: right;\">\n",
       "      <th></th>\n",
       "      <th>case_number</th>\n",
       "      <th>year</th>\n",
       "      <th>country</th>\n",
       "      <th>activity</th>\n",
       "      <th>age</th>\n",
       "      <th>species_</th>\n",
       "      <th>date</th>\n",
       "      <th>mes</th>\n",
       "      <th>fatal_</th>\n",
       "      <th>sex2</th>\n",
       "      <th>nuevas_edades</th>\n",
       "    </tr>\n",
       "  </thead>\n",
       "  <tbody>\n",
       "    <tr>\n",
       "      <th>0</th>\n",
       "      <td>1800.00.00</td>\n",
       "      <td>1977</td>\n",
       "      <td>seychelles</td>\n",
       "      <td>a corsair's boat was overturned</td>\n",
       "      <td>NaN</td>\n",
       "      <td>NaN</td>\n",
       "      <td>1800</td>\n",
       "      <td>NaN</td>\n",
       "      <td>y</td>\n",
       "      <td>F</td>\n",
       "      <td>27.301694</td>\n",
       "    </tr>\n",
       "    <tr>\n",
       "      <th>1</th>\n",
       "      <td>1797.05.28.R</td>\n",
       "      <td>1977</td>\n",
       "      <td>NaN</td>\n",
       "      <td>Dropped overboard</td>\n",
       "      <td>NaN</td>\n",
       "      <td>NaN</td>\n",
       "      <td>Reported May-28-1797</td>\n",
       "      <td>May</td>\n",
       "      <td>y</td>\n",
       "      <td>M</td>\n",
       "      <td>27.301694</td>\n",
       "    </tr>\n",
       "    <tr>\n",
       "      <th>2</th>\n",
       "      <td>1792.09.12</td>\n",
       "      <td>1977</td>\n",
       "      <td>england</td>\n",
       "      <td>Fishing</td>\n",
       "      <td>NaN</td>\n",
       "      <td>NaN</td>\n",
       "      <td>12-Sep-1792</td>\n",
       "      <td>Sep</td>\n",
       "      <td>y</td>\n",
       "      <td>M</td>\n",
       "      <td>27.301694</td>\n",
       "    </tr>\n",
       "  </tbody>\n",
       "</table>\n",
       "</div>"
      ],
      "text/plain": [
       "    case_number  year     country                         activity  age  \\\n",
       "0    1800.00.00  1977  seychelles  a corsair's boat was overturned  NaN   \n",
       "1  1797.05.28.R  1977         NaN                Dropped overboard  NaN   \n",
       "2    1792.09.12  1977     england                          Fishing  NaN   \n",
       "\n",
       "  species_                  date  mes fatal_ sex2  nuevas_edades  \n",
       "0      NaN                  1800  NaN      y    F      27.301694  \n",
       "1      NaN  Reported May-28-1797  May      y    M      27.301694  \n",
       "2      NaN           12-Sep-1792  Sep      y    M      27.301694  "
      ]
     },
     "execution_count": 3,
     "metadata": {},
     "output_type": "execute_result"
    }
   ],
   "source": [
    "df_ataques.head(3)"
   ]
  },
  {
   "cell_type": "code",
   "execution_count": 4,
   "metadata": {},
   "outputs": [],
   "source": [
    "df_ataques[\"activity\"] = df_ataques[\"activity\"].apply(lambda x:x.replace(\"'\", \"\"))"
   ]
  },
  {
   "cell_type": "code",
   "execution_count": null,
   "metadata": {},
   "outputs": [],
   "source": []
  },
  {
   "cell_type": "code",
   "execution_count": 5,
   "metadata": {},
   "outputs": [
    {
     "data": {
      "text/plain": [
       "case_number       object\n",
       "year               int64\n",
       "country           object\n",
       "activity          object\n",
       "age               object\n",
       "species_          object\n",
       "date              object\n",
       "mes               object\n",
       "fatal_            object\n",
       "sex2              object\n",
       "nuevas_edades    float64\n",
       "dtype: object"
      ]
     },
     "execution_count": 5,
     "metadata": {},
     "output_type": "execute_result"
    }
   ],
   "source": [
    "df_ataques.dtypes"
   ]
  },
  {
   "cell_type": "code",
   "execution_count": 6,
   "metadata": {},
   "outputs": [
    {
     "data": {
      "text/plain": [
       "case_number         1\n",
       "year                0\n",
       "country            50\n",
       "activity            0\n",
       "age              2820\n",
       "species_         2831\n",
       "date                0\n",
       "mes               570\n",
       "fatal_            607\n",
       "sex2                0\n",
       "nuevas_edades       0\n",
       "dtype: int64"
      ]
     },
     "execution_count": 6,
     "metadata": {},
     "output_type": "execute_result"
    }
   ],
   "source": [
    "df_ataques.isnull().sum()"
   ]
  },
  {
   "cell_type": "code",
   "execution_count": 7,
   "metadata": {},
   "outputs": [
    {
     "data": {
      "text/html": [
       "<div>\n",
       "<style scoped>\n",
       "    .dataframe tbody tr th:only-of-type {\n",
       "        vertical-align: middle;\n",
       "    }\n",
       "\n",
       "    .dataframe tbody tr th {\n",
       "        vertical-align: top;\n",
       "    }\n",
       "\n",
       "    .dataframe thead th {\n",
       "        text-align: right;\n",
       "    }\n",
       "</style>\n",
       "<table border=\"1\" class=\"dataframe\">\n",
       "  <thead>\n",
       "    <tr style=\"text-align: right;\">\n",
       "      <th></th>\n",
       "      <th>timepoint</th>\n",
       "      <th>cloudcover</th>\n",
       "      <th>highcloud</th>\n",
       "      <th>midcloud</th>\n",
       "      <th>lowcloud</th>\n",
       "      <th>rh_profile</th>\n",
       "      <th>wind_profile</th>\n",
       "      <th>temp2m</th>\n",
       "      <th>lifted_index</th>\n",
       "      <th>rh2m</th>\n",
       "      <th>msl_pressure</th>\n",
       "      <th>prec_type</th>\n",
       "      <th>prec_amount</th>\n",
       "      <th>snow_depth</th>\n",
       "      <th>wind10m.direction</th>\n",
       "      <th>wind10m.speed</th>\n",
       "      <th>latitud</th>\n",
       "      <th>longitud</th>\n",
       "      <th>paises</th>\n",
       "    </tr>\n",
       "  </thead>\n",
       "  <tbody>\n",
       "    <tr>\n",
       "      <th>0</th>\n",
       "      <td>3</td>\n",
       "      <td>1</td>\n",
       "      <td>-9999</td>\n",
       "      <td>-9999</td>\n",
       "      <td>-9999</td>\n",
       "      <td>[{'layer': '950mb', 'rh': 2}, {'layer': '900mb...</td>\n",
       "      <td>[{'layer': '950mb', 'direction': 5, 'speed': 2...</td>\n",
       "      <td>26</td>\n",
       "      <td>6</td>\n",
       "      <td>3</td>\n",
       "      <td>1009</td>\n",
       "      <td>none</td>\n",
       "      <td>0</td>\n",
       "      <td>0</td>\n",
       "      <td>295</td>\n",
       "      <td>2</td>\n",
       "      <td>39.78373</td>\n",
       "      <td>-100.445882</td>\n",
       "      <td>USA</td>\n",
       "    </tr>\n",
       "  </tbody>\n",
       "</table>\n",
       "</div>"
      ],
      "text/plain": [
       "   timepoint  cloudcover  highcloud  midcloud  lowcloud  \\\n",
       "0          3           1      -9999     -9999     -9999   \n",
       "\n",
       "                                          rh_profile  \\\n",
       "0  [{'layer': '950mb', 'rh': 2}, {'layer': '900mb...   \n",
       "\n",
       "                                        wind_profile  temp2m  lifted_index  \\\n",
       "0  [{'layer': '950mb', 'direction': 5, 'speed': 2...      26             6   \n",
       "\n",
       "   rh2m  msl_pressure prec_type  prec_amount  snow_depth  wind10m.direction  \\\n",
       "0     3          1009      none            0           0                295   \n",
       "\n",
       "   wind10m.speed   latitud    longitud paises  \n",
       "0              2  39.78373 -100.445882    USA  "
      ]
     },
     "execution_count": 7,
     "metadata": {},
     "output_type": "execute_result"
    }
   ],
   "source": [
    "df_clima.head(1)"
   ]
  },
  {
   "cell_type": "code",
   "execution_count": 10,
   "metadata": {},
   "outputs": [
    {
     "data": {
      "text/plain": [
       "timepoint              int64\n",
       "cloudcover             int64\n",
       "highcloud              int64\n",
       "midcloud               int64\n",
       "lowcloud               int64\n",
       "rh_profile            object\n",
       "wind_profile          object\n",
       "temp2m                 int64\n",
       "lifted_index           int64\n",
       "rh2m                   int64\n",
       "msl_pressure           int64\n",
       "prec_type             object\n",
       "prec_amount            int64\n",
       "snow_depth             int64\n",
       "wind10m.direction      int64\n",
       "wind10m.speed          int64\n",
       "latitud              float64\n",
       "longitud             float64\n",
       "paises                object\n",
       "dtype: object"
      ]
     },
     "execution_count": 10,
     "metadata": {},
     "output_type": "execute_result"
    }
   ],
   "source": [
    "df_clima.dtypes"
   ]
  },
  {
   "cell_type": "code",
   "execution_count": 11,
   "metadata": {},
   "outputs": [
    {
     "data": {
      "text/plain": [
       "timepoint            0\n",
       "cloudcover           0\n",
       "highcloud            0\n",
       "midcloud             0\n",
       "lowcloud             0\n",
       "rh_profile           0\n",
       "wind_profile         0\n",
       "temp2m               0\n",
       "lifted_index         0\n",
       "rh2m                 0\n",
       "msl_pressure         0\n",
       "prec_type            0\n",
       "prec_amount          0\n",
       "snow_depth           0\n",
       "wind10m.direction    0\n",
       "wind10m.speed        0\n",
       "latitud              0\n",
       "longitud             0\n",
       "paises               0\n",
       "dtype: int64"
      ]
     },
     "execution_count": 11,
     "metadata": {},
     "output_type": "execute_result"
    }
   ],
   "source": [
    "df_clima.isnull().sum()"
   ]
  },
  {
   "cell_type": "code",
   "execution_count": 8,
   "metadata": {},
   "outputs": [],
   "source": [
    "def crear_bbdd(nombre_bbdd):\n",
    "\n",
    "    mydb = mysql.connector.connect(\n",
    "      host=\"localhost\",\n",
    "      user=\"root\",\n",
    "      password=\"AlumnaAdalab\" # aquí tendréis que poner vuestra contraseña de MySQL\n",
    "    )\n",
    "    print(\"Conexión realizada con éxito\")\n",
    "    \n",
    "    mycursor = mydb.cursor()\n",
    "\n",
    "    try:\n",
    "        mycursor.execute(f\"CREATE DATABASE IF NOT EXISTS {nombre_bbdd};\")\n",
    "        print(mycursor)\n",
    "    except mysql.connector.Error as err:\n",
    "        print(err)\n",
    "        print(\"Error Code:\", err.errno)\n",
    "        print(\"SQLSTATE\", err.sqlstate)\n",
    "        print(\"Message\", err.msg)"
   ]
  },
  {
   "cell_type": "code",
   "execution_count": 9,
   "metadata": {},
   "outputs": [
    {
     "name": "stdout",
     "output_type": "stream",
     "text": [
      "Conexión realizada con éxito\n",
      "MySQLCursor: CREATE DATABASE IF NOT EXISTS tiburones;\n"
     ]
    }
   ],
   "source": [
    "mydb = crear_bbdd(\"tiburones\")"
   ]
  },
  {
   "cell_type": "markdown",
   "metadata": {},
   "source": [
    "2- Cread las tablas de la BBDD: tabla ataques, tabla clima"
   ]
  },
  {
   "cell_type": "code",
   "execution_count": 30,
   "metadata": {},
   "outputs": [],
   "source": [
    "def crear_insertar_tabla(nombre_bbdd, contraseña, query):\n",
    "    \n",
    "    # nos conectamsos con el servidor usando el conector de sql\n",
    "    cnx = mysql.connector.connect(user='root', password=f\"{contraseña}\",\n",
    "                                     host='127.0.0.1', database=f\"{nombre_bbdd}\")\n",
    "    # iniciamos el cursor\n",
    "    mycursor = cnx.cursor()\n",
    "    \n",
    "    # intentamos hacer la query\n",
    "    try: \n",
    "        mycursor.execute(query)\n",
    "        cnx.commit() \n",
    "    # en caso de que podamos ejecutar la query devuelvenos un error para saber en que nos estamos equivocando\n",
    "    except mysql.connector.Error as err:\n",
    "        print(err)\n",
    "        print(\"Error Code:\", err.errno)\n",
    "        print(\"SQLSTATE\", err.sqlstate)\n",
    "        print(\"Message\", err.msg)"
   ]
  },
  {
   "cell_type": "code",
   "execution_count": 31,
   "metadata": {},
   "outputs": [],
   "source": [
    "tabla_clima = \"\"\" CREATE TABLE IF NOT EXISTS clima (\n",
    "  idclima INT NOT NULL AUTO_INCREMENT,\n",
    "  timepoint INT NOT NULL,\n",
    "  cloudcover INT NOT NULL,\n",
    "  highcloud INT NOT NULL,\n",
    "  midcloud  INT NOT NULL,\n",
    "  lowcloud  INT NOT NULL,\n",
    "  rh_profile VARCHAR(255) NOT NULL,\n",
    "  wind_profile VARCHAR(255) NOT NULL,\n",
    "  temp2m INT NOT NULL,\n",
    "  lifted_index INT NOT NULL,\n",
    "  rh2m INT NOT NULL,\n",
    "  msl_pressure INT NOT NULL, \n",
    "  prec_type VARCHAR(255) NOT NULL,\n",
    "  prec_amounT INT NOT NULL,\n",
    "  snow_depth INT NOT NULL,\n",
    "  wind10m_direction INT NOT NULL,\n",
    "  wind10m_speed INT NOT NULL,\n",
    "  latitud FLOAT NOT NULL,\n",
    "  longitud FLOAT NOT NULL,\n",
    "  paises VARCHAR(255) NOT NULL,\n",
    "  PRIMARY KEY (idclima))\"\"\" "
   ]
  },
  {
   "cell_type": "code",
   "execution_count": 32,
   "metadata": {},
   "outputs": [
    {
     "data": {
      "text/html": [
       "<div>\n",
       "<style scoped>\n",
       "    .dataframe tbody tr th:only-of-type {\n",
       "        vertical-align: middle;\n",
       "    }\n",
       "\n",
       "    .dataframe tbody tr th {\n",
       "        vertical-align: top;\n",
       "    }\n",
       "\n",
       "    .dataframe thead th {\n",
       "        text-align: right;\n",
       "    }\n",
       "</style>\n",
       "<table border=\"1\" class=\"dataframe\">\n",
       "  <thead>\n",
       "    <tr style=\"text-align: right;\">\n",
       "      <th></th>\n",
       "      <th>case_number</th>\n",
       "      <th>year</th>\n",
       "      <th>country</th>\n",
       "      <th>activity</th>\n",
       "      <th>age</th>\n",
       "      <th>species_</th>\n",
       "      <th>date</th>\n",
       "      <th>mes</th>\n",
       "      <th>fatal_</th>\n",
       "      <th>sex2</th>\n",
       "      <th>nuevas_edades</th>\n",
       "    </tr>\n",
       "  </thead>\n",
       "  <tbody>\n",
       "    <tr>\n",
       "      <th>0</th>\n",
       "      <td>1800.00.00</td>\n",
       "      <td>1977</td>\n",
       "      <td>seychelles</td>\n",
       "      <td>a corsairs boat was overturned</td>\n",
       "      <td>NaN</td>\n",
       "      <td>NaN</td>\n",
       "      <td>1800</td>\n",
       "      <td>NaN</td>\n",
       "      <td>y</td>\n",
       "      <td>F</td>\n",
       "      <td>27.301694</td>\n",
       "    </tr>\n",
       "    <tr>\n",
       "      <th>1</th>\n",
       "      <td>1797.05.28.R</td>\n",
       "      <td>1977</td>\n",
       "      <td>NaN</td>\n",
       "      <td>Dropped overboard</td>\n",
       "      <td>NaN</td>\n",
       "      <td>NaN</td>\n",
       "      <td>Reported May-28-1797</td>\n",
       "      <td>May</td>\n",
       "      <td>y</td>\n",
       "      <td>M</td>\n",
       "      <td>27.301694</td>\n",
       "    </tr>\n",
       "    <tr>\n",
       "      <th>2</th>\n",
       "      <td>1792.09.12</td>\n",
       "      <td>1977</td>\n",
       "      <td>england</td>\n",
       "      <td>Fishing</td>\n",
       "      <td>NaN</td>\n",
       "      <td>NaN</td>\n",
       "      <td>12-Sep-1792</td>\n",
       "      <td>Sep</td>\n",
       "      <td>y</td>\n",
       "      <td>M</td>\n",
       "      <td>27.301694</td>\n",
       "    </tr>\n",
       "    <tr>\n",
       "      <th>3</th>\n",
       "      <td>1791.00.00</td>\n",
       "      <td>1977</td>\n",
       "      <td>australia</td>\n",
       "      <td>Surfing</td>\n",
       "      <td>NaN</td>\n",
       "      <td>NaN</td>\n",
       "      <td>1791</td>\n",
       "      <td>NaN</td>\n",
       "      <td>y</td>\n",
       "      <td>F</td>\n",
       "      <td>27.301694</td>\n",
       "    </tr>\n",
       "    <tr>\n",
       "      <th>4</th>\n",
       "      <td>1788.05.10</td>\n",
       "      <td>1977</td>\n",
       "      <td>australia</td>\n",
       "      <td>Fishing</td>\n",
       "      <td>NaN</td>\n",
       "      <td>NaN</td>\n",
       "      <td>10-May-1788</td>\n",
       "      <td>May</td>\n",
       "      <td>n</td>\n",
       "      <td>M</td>\n",
       "      <td>27.301694</td>\n",
       "    </tr>\n",
       "  </tbody>\n",
       "</table>\n",
       "</div>"
      ],
      "text/plain": [
       "    case_number  year     country                        activity  age  \\\n",
       "0    1800.00.00  1977  seychelles  a corsairs boat was overturned  NaN   \n",
       "1  1797.05.28.R  1977         NaN               Dropped overboard  NaN   \n",
       "2    1792.09.12  1977     england                         Fishing  NaN   \n",
       "3    1791.00.00  1977   australia                         Surfing  NaN   \n",
       "4    1788.05.10  1977   australia                         Fishing  NaN   \n",
       "\n",
       "  species_                  date  mes fatal_ sex2  nuevas_edades  \n",
       "0      NaN                  1800  NaN      y    F      27.301694  \n",
       "1      NaN  Reported May-28-1797  May      y    M      27.301694  \n",
       "2      NaN           12-Sep-1792  Sep      y    M      27.301694  \n",
       "3      NaN                  1791  NaN      y    F      27.301694  \n",
       "4      NaN           10-May-1788  May      n    M      27.301694  "
      ]
     },
     "execution_count": 32,
     "metadata": {},
     "output_type": "execute_result"
    }
   ],
   "source": [
    "df_ataques.head()"
   ]
  },
  {
   "cell_type": "code",
   "execution_count": 33,
   "metadata": {},
   "outputs": [],
   "source": [
    "tabla_ataques = \"\"\" CREATE TABLE IF NOT EXISTS ataques (\n",
    "  case_number VARCHAR(255) NOT NULL,\n",
    "  year INT NOT NULL,\n",
    "  country VARCHAR(255),\n",
    "  age VARCHAR(255),\n",
    "  species_ VARCHAR(255),\n",
    "  fatal_ VARCHAR(255),\n",
    "  sex2 VARCHAR(255) NOT NULL,  \n",
    "  nuevas_edades FLOAT NOT NULL,\n",
    "  PRIMARY KEY (case_number))\"\"\""
   ]
  },
  {
   "cell_type": "code",
   "execution_count": 34,
   "metadata": {},
   "outputs": [],
   "source": [
    "crear_insertar_tabla(\"tiburones\", \"AlumnaAdalab\", tabla_clima)"
   ]
  },
  {
   "cell_type": "code",
   "execution_count": 35,
   "metadata": {},
   "outputs": [],
   "source": [
    "crear_insertar_tabla(\"tiburones\", \"AlumnaAdalab\", tabla_ataques)"
   ]
  },
  {
   "cell_type": "markdown",
   "metadata": {},
   "source": [
    "3- BONUS Insertar los datos en las tablas."
   ]
  },
  {
   "cell_type": "code",
   "execution_count": 36,
   "metadata": {},
   "outputs": [
    {
     "name": "stdout",
     "output_type": "stream",
     "text": [
      "1064 (42000): You have an error in your SQL syntax; check the manual that corresponds to your MySQL server version for the right syntax to use near 'middle-age\"\", \"nan\",\"y\",\"F\",\"27.301693925233646\")' at line 2\n",
      "Error Code: 1064\n",
      "SQLSTATE 42000\n",
      "Message You have an error in your SQL syntax; check the manual that corresponds to your MySQL server version for the right syntax to use near 'middle-age\"\", \"nan\",\"y\",\"F\",\"27.301693925233646\")' at line 2\n",
      "1064 (42000): You have an error in your SQL syntax; check the manual that corresponds to your MySQL server version for the right syntax to use near 'young\"\", \"Unspecified\",\"n\",\"M\",\"27.301693925233646\")' at line 2\n",
      "Error Code: 1064\n",
      "SQLSTATE 42000\n",
      "Message You have an error in your SQL syntax; check the manual that corresponds to your MySQL server version for the right syntax to use near 'young\"\", \"Unspecified\",\"n\",\"M\",\"27.301693925233646\")' at line 2\n"
     ]
    }
   ],
   "source": [
    "for indice, fila in df_ataques.iterrows(): # itreamos por el dataframe\n",
    "        \n",
    "        query_ataques = f\"\"\"\n",
    "                INSERT INTO ataques (case_number, year, country, age, species_, fatal_, sex2, nuevas_edades) \n",
    "                VALUES ( \"{fila[\"case_number\"]}\",\"{fila['year']}\", \"{fila['country']}\", \"{fila['age']}\", \"{fila['species_']}\",\"{fila['fatal_']}\",\"{fila['sex2']}\",\"{fila['nuevas_edades']}\");\n",
    "                \"\"\"\n",
    "\n",
    "    # una vez definida la query llamamos a la función que nos inserta los datos. \n",
    "        \n",
    "        crear_insertar_tabla(\"tiburones\", \"AlumnaAdalab\", query_ataques)"
   ]
  },
  {
   "cell_type": "code",
   "execution_count": null,
   "metadata": {},
   "outputs": [],
   "source": [
    "for indice, fila in df_clima.iterrows(): # itreamos por el dataframe\n",
    "        \n",
    "        query_clima = f\"\"\"\n",
    "                INSERT INTO ataques (case_number, year, country, age, species_, fatal_, sex2, nuevas_edades) \n",
    "                VALUES ( \"{fila[\"case_number\"]}\",\"{fila['year']}\", \"{fila['country']}\", \"{fila['age']}\", \"{fila['species_']}\",\"{fila['fatal_']}\",\"{fila['sex2']}\",\"{fila['nuevas_edades']}\");\n",
    "                \"\"\"\n",
    "\n",
    "    # una vez definida la query llamamos a la función que nos inserta los datos. \n",
    "        \n",
    "        crear_insertar_tabla(\"tiburones\", \"AlumnaAdalab\", query_ataques)"
   ]
  },
  {
   "cell_type": "code",
   "execution_count": null,
   "metadata": {},
   "outputs": [],
   "source": [
    "## tabla_ataques = \"\"\" CREATE TABLE IF NOT EXISTS ataques (\n",
    "  case_number VARCHAR(255) NOT NULL,\n",
    "  year INT NOT NULL,\n",
    "  country VARCHAR(255),\n",
    "  activity VARCHAR(255) NOT NULL,\n",
    "  age VARCHAR(255),\n",
    "  species_ VARCHAR(255),\n",
    "  date VARCHAR(255) NOT NULL,\n",
    "  mes VARCHAR(255) ,\n",
    "  fatal_ VARCHAR(255),\n",
    "  sex2 VARCHAR(255) NOT NULL,  \n",
    "  nuevas_edades FLOAT NOT NULL,\n",
    "  PRIMARY KEY (case_number))\"\"\""
   ]
  },
  {
   "cell_type": "code",
   "execution_count": null,
   "metadata": {},
   "outputs": [],
   "source": [
    "### for indice, fila in df_ataques.iterrows(): # itreamos por el dataframe\n",
    "        \n",
    "        query_ataques = f\"\"\"\n",
    "                INSERT INTO ataques (case_number, year, country, activity, age, species_, date, mes, fatal_, sex2, nuevas_edades) \n",
    "                VALUES ( \"{fila[\"case_number\"]}\",\"{fila['year']}\", \"{fila['country']}\", \"{fila['activity']}\", \"{fila['age']}\", \"{fila['species_']}\", \\\n",
    "                        \"{fila['date']}\",\"{fila['mes']}\",\"{fila['fatal_']}\",\"{fila['sex2']}\",\"{fila['nuevas_edades']}\");\n",
    "                \"\"\"\n",
    "\n",
    "    # una vez definida la query llamamos a la función que nos inserta los datos. \n",
    "        \n",
    "        crear_insertar_tabla(\"tiburones\", \"AlumnaAdalab\", query_ataques)"
   ]
  }
 ],
 "metadata": {
  "kernelspec": {
   "display_name": "Python 3.9.7 ('base')",
   "language": "python",
   "name": "python3"
  },
  "language_info": {
   "codemirror_mode": {
    "name": "ipython",
    "version": 3
   },
   "file_extension": ".py",
   "mimetype": "text/x-python",
   "name": "python",
   "nbconvert_exporter": "python",
   "pygments_lexer": "ipython3",
   "version": "3.9.7"
  },
  "orig_nbformat": 4,
  "vscode": {
   "interpreter": {
    "hash": "8a25273be94c3f568d6307c1258330d891164ee9551e6d3c1016426c9aa8bf5c"
   }
  }
 },
 "nbformat": 4,
 "nbformat_minor": 2
}
