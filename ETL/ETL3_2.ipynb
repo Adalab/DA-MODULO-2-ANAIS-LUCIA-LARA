{
 "cells": [
  {
   "cell_type": "markdown",
   "metadata": {},
   "source": [
    "Igual que en el ejercicio de pair programming de ETL Transformación II, tendréis que crear una clase que nos permita cargar los datos en SQL I."
   ]
  },
  {
   "cell_type": "code",
   "execution_count": 1,
   "metadata": {},
   "outputs": [],
   "source": [
    "from IPython.core.interactiveshell import InteractiveShell # Nos permite mostar más de una salida por celda\n",
    "InteractiveShell.ast_node_interactivity = \"all\" # Nos permite mostar más de una salida por celda\n",
    "\n",
    "import pandas as pd\n",
    "import numpy as np\n",
    "import ast\n",
    "import mysql.connector"
   ]
  },
  {
   "cell_type": "code",
   "execution_count": 2,
   "metadata": {},
   "outputs": [],
   "source": [
    "df_ataques = pd.read_csv('../Ficheros/attack_limpieza5.csv', index_col= 0)\n",
    "df_clima = pd.read_csv('../Ficheros/ETL1.csv', index_col= 0)"
   ]
  },
  {
   "cell_type": "code",
   "execution_count": 3,
   "metadata": {},
   "outputs": [],
   "source": [
    "class Carga:\n",
    "    \n",
    "    # constructor\n",
    "    def __init__(self, nombre_bbdd, contraseña):\n",
    "        \n",
    "        self.nombre_bbdd = nombre_bbdd\n",
    "        self.contraseña = contraseña\n",
    "        \n",
    "        \n",
    "    # método para crear la BBDD  \n",
    "    def crear_bbdd(self):\n",
    "\n",
    "        mydb = mysql.connector.connect(host=\"localhost\",\n",
    "                                       user=\"root\",\n",
    "                                       password=f'{self.contraseña}') \n",
    "        mycursor = mydb.cursor()\n",
    "        print(\"Conexión realizada con éxito\")\n",
    "\n",
    "        try:\n",
    "            mycursor.execute(f\"CREATE DATABASE IF NOT EXISTS {self.nombre_bbdd};\")\n",
    "            \n",
    "        except:\n",
    "            print(\"La BBDD ya existe\")\n",
    "            \n",
    "            \n",
    "    # método para crear tablas  e insertar datos en ellas   \n",
    "    def crear_insertar_tabla(self, query):\n",
    "        \n",
    "        mydb = mysql.connector.connect(host=\"localhost\",\n",
    "                                       user=\"root\",\n",
    "                                       password=f'{self.contraseña}', \n",
    "                                       database=f\"{self.nombre_bbdd}\") \n",
    "        mycursor = mydb.cursor()\n",
    "        \n",
    "        try:\n",
    "            mycursor.execute(query)\n",
    "            mydb.commit()\n",
    "          \n",
    "        except mysql.connector.Error as err:\n",
    "            print(err)\n",
    "            print(\"Error Code:\", err.errno)\n",
    "            print(\"SQLSTATE\", err.sqlstate)\n",
    "            print(\"Message\", err.msg)\n",
    "            \n",
    "\n",
    "    # Método para ejecutar la inserción de datos en clima     \n",
    "    def insertar_clima(self, dataframe):\n",
    "        \n",
    "        tabla_clima = \"\"\" CREATE TABLE IF NOT EXISTS clima (\n",
    "            idclima INT NOT NULL AUTO_INCREMENT,\n",
    "            timepoint INT NOT NULL,\n",
    "            cloudcover INT NOT NULL,\n",
    "            highcloud INT NOT NULL,\n",
    "            midcloud  INT NOT NULL,\n",
    "            lowcloud  INT NOT NULL,\n",
    "            rh_profile VARCHAR(1000) NOT NULL,\n",
    "            wind_profile VARCHAR(1000) NOT NULL,\n",
    "            temp2m INT NOT NULL,\n",
    "            lifted_index INT NOT NULL,\n",
    "            rh2m INT NOT NULL,\n",
    "            msl_pressure INT NOT NULL, \n",
    "            prec_type VARCHAR(255) NOT NULL,\n",
    "            prec_amount INT NOT NULL,\n",
    "            snow_depth INT NOT NULL,\n",
    "            wind10m_direction INT NOT NULL,\n",
    "            wind10m_speed INT NOT NULL,\n",
    "            latitud FLOAT NOT NULL,\n",
    "            longitud FLOAT NOT NULL,\n",
    "            paises VARCHAR(255) NOT NULL,\n",
    "            PRIMARY KEY (idclima))\"\"\" \n",
    "        \n",
    "        self.crear_insertar_tabla(tabla_clima)\n",
    "        \n",
    "        for indice, fila in dataframe.iterrows(): # itreamos por el dataframe\n",
    "        \n",
    "            insert_clima = f\"\"\"            \n",
    "                    INSERT INTO clima (timepoint, cloudcover, highcloud, midcloud, lowcloud, rh_profile, wind_profile, temp2m, lifted_index, rh2m, \n",
    "                    msl_pressure, prec_type, prec_amount, snow_depth, wind10m_direction, wind10m_speed, latitud, longitud, paises) \n",
    "                    VALUES ( \"{fila[\"timepoint\"]}\",\"{fila['cloudcover']}\", \"{fila['highcloud']}\", \"{fila['midcloud']}\", \"{fila['lowcloud']}\",\n",
    "                    \"{fila['rh_profile']}\",\"{fila['wind_profile']}\",\"{fila['temp2m']}\",\"{fila['lifted_index']}\",\"{fila['rh2m']}\",\"{fila['msl_pressure']}\"\n",
    "                    ,\"{fila['prec_type']}\",\"{fila['prec_amount']}\",\"{fila['snow_depth']}\",\"{fila['wind10m.direction']}\"\n",
    "                    ,\"{fila['wind10m.speed']}\",\"{fila['latitud']}\",\"{fila['longitud']}\",\"{fila['paises']}\");\n",
    "                    \"\"\"\n",
    "\n",
    "            self.crear_insertar_tabla(insert_clima)\n",
    "                        \n",
    "    \n",
    "    # Método para ejecutar la inserción de datos en ataques \n",
    "    def insertar_ataques(self, dataframe):\n",
    "        \n",
    "        tabla_ataques = \"\"\" CREATE TABLE IF NOT EXISTS ataques (\n",
    "            case_number VARCHAR(255) NOT NULL,\n",
    "            year INT NOT NULL,\n",
    "            country VARCHAR(255),\n",
    "            activity VARCHAR(255),\n",
    "            species_ VARCHAR(255),\n",
    "            fatal_ VARCHAR(255),\n",
    "            sex2 VARCHAR(255) NOT NULL,  \n",
    "            nuevas_edades FLOAT NOT NULL,\n",
    "            PRIMARY KEY (case_number))\"\"\"\n",
    "            \n",
    "        self.crear_insertar_tabla(tabla_ataques)\n",
    "        \n",
    "        for indice, fila in dataframe.iterrows(): # itreamos por el dataframe\n",
    "        \n",
    "            insert_ataques = f\"\"\"            \n",
    "                    INSERT INTO ataques (case_number, year, country, activity, species_, fatal_, sex2, nuevas_edades)\n",
    "                    VALUES ( \"{fila[\"case_number\"]}\",\"{fila['year']}\",\"{fila['country']}\",\"{fila['activity']}\",\"{fila['species_']}\",\"{fila['fatal_']}\",\"{fila['sex2']}\",\"{fila['nuevas_edades']}\");\n",
    "                    \"\"\"\n",
    "                    \n",
    "            self.crear_insertar_tabla(insert_ataques) "
   ]
  },
  {
   "cell_type": "code",
   "execution_count": 4,
   "metadata": {},
   "outputs": [],
   "source": [
    "instancia = Carga(\"tiburones\", \"AlumnaAdalab\")"
   ]
  },
  {
   "cell_type": "code",
   "execution_count": 5,
   "metadata": {},
   "outputs": [
    {
     "name": "stdout",
     "output_type": "stream",
     "text": [
      "Conexión realizada con éxito\n"
     ]
    }
   ],
   "source": [
    "instancia.crear_bbdd()"
   ]
  },
  {
   "cell_type": "code",
   "execution_count": 6,
   "metadata": {},
   "outputs": [],
   "source": [
    "instancia.insertar_clima(df_clima)"
   ]
  },
  {
   "cell_type": "code",
   "execution_count": 7,
   "metadata": {},
   "outputs": [],
   "source": [
    "instancia.insertar_ataques(df_ataques)"
   ]
  }
 ],
 "metadata": {
  "kernelspec": {
   "display_name": "Python 3.9.7 ('base')",
   "language": "python",
   "name": "python3"
  },
  "language_info": {
   "codemirror_mode": {
    "name": "ipython",
    "version": 3
   },
   "file_extension": ".py",
   "mimetype": "text/x-python",
   "name": "python",
   "nbconvert_exporter": "python",
   "pygments_lexer": "ipython3",
   "version": "3.9.7"
  },
  "orig_nbformat": 4,
  "vscode": {
   "interpreter": {
    "hash": "fd3399778ecca89ccfd38c8963bbc048ff3198ccc7f9219d1f9dd0c6b6412bb5"
   }
  }
 },
 "nbformat": 4,
 "nbformat_minor": 2
}
