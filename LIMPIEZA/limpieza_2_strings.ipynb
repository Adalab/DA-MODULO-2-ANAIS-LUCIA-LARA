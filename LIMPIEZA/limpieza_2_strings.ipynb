{
 "cells": [
  {
   "cell_type": "markdown",
   "metadata": {},
   "source": [
    "\n",
    "\n",
    "\n",
    "3-Guarda el csv con las columnas limpias para seguir trabajando con este dataframe limpio.\n"
   ]
  },
  {
   "cell_type": "markdown",
   "metadata": {},
   "source": [
    "1- Columna de species: si exploramos esta columna en detalle nos podemos dar cuenta que tenemos muchos valores únicos y esto hace que sea muy difícil trabajar con esta columna. Lo que vamos a hacer es clasificar los tiburones en 5 especies diferentes, las más comunes, que incluyen el tiburón blanco (White), el tiburón tigre (Tiger ), el tiburón gris (Grey), el tiburón limón (Lemon) y el tiburón toro (Bull). El resto de las especies las incluiremos en un único grupo que podremos llamar \"Unspecified\". Ahora nos podemos sentir un poco abrumadas y no saber como enfrentarnos a este reto, pero don't worry, os dejamos por aquí unas 💡 pistas 💡 para que os ayuden a entender cómo hacerlo.\n",
    "   - Los valores de las columnas son strings por lo que podremos usar regex para buscar palabras clave en cada celda y asignarlo a una de las categorías que hemos definido previamente.\n",
    "   - Tendremos que crearnos una función que aplicaremos sobre nuestra columna species_ para que nos devuelva una nueva columna con los valores clasificados en función de los patrones de regex que hayamos definido.\n"
   ]
  },
  {
   "cell_type": "code",
   "execution_count": 419,
   "metadata": {},
   "outputs": [],
   "source": [
    "import pandas as pd\n",
    "import numpy as np\n",
    "import re\n",
    "df= pd.read_csv('../Ficheros/attack_limpieza1.csv')"
   ]
  },
  {
   "cell_type": "code",
   "execution_count": 420,
   "metadata": {},
   "outputs": [],
   "source": [
    "patron_blanco = r\".*[Ww](hite|HITE).*\"\n",
    "patron_tiger = r\".*[Tt](iger|IGER).*\"\n",
    "patron_grey = r\".*[Gg](rey|REY).*\"\n",
    "patron_lemon = r\".*[Ll](emon|EMON).*\"\n",
    "patron_bull = r\".*[Bb](ull|ULL).*\"\n",
    "patron_nan = r\"(NAN)\""
   ]
  },
  {
   "cell_type": "code",
   "execution_count": 421,
   "metadata": {},
   "outputs": [],
   "source": [
    "df=df.fillna(\"NAN\")"
   ]
  },
  {
   "cell_type": "code",
   "execution_count": 422,
   "metadata": {},
   "outputs": [],
   "source": [
    "def cambiar_especie(x):\n",
    "    if re.findall(patron_blanco,x):\n",
    "        return x.replace(x,'White')\n",
    "    elif re.findall(patron_tiger,x):\n",
    "        return x.replace(x,'Tiger')\n",
    "    elif re.findall(patron_grey,x):\n",
    "        return x.replace(x,'Grey')\n",
    "    elif re.findall(patron_lemon,x):\n",
    "        return x.replace(x,'Lemon')\n",
    "    elif re.findall(patron_bull,x):\n",
    "        return x.replace(x,'Bull')\n",
    "    elif re.findall(patron_nan,x):\n",
    "        return x.replace(x,'NAN')\n",
    "    else:\n",
    "        return x.replace(x,\"Unspecified\")\n",
    "    \n"
   ]
  },
  {
   "cell_type": "code",
   "execution_count": 423,
   "metadata": {},
   "outputs": [],
   "source": [
    "df['species_']= df['species_'].apply(cambiar_especie)"
   ]
  },
  {
   "cell_type": "code",
   "execution_count": 424,
   "metadata": {},
   "outputs": [],
   "source": [
    "df= df.apply(lambda x: x.replace('NAN', np.nan))"
   ]
  },
  {
   "cell_type": "code",
   "execution_count": 425,
   "metadata": {},
   "outputs": [
    {
     "data": {
      "text/plain": [
       "array([nan, 'Tiger', 'White', 'Unspecified', 'Bull', 'Grey', 'Lemon'],\n",
       "      dtype=object)"
      ]
     },
     "execution_count": 425,
     "metadata": {},
     "output_type": "execute_result"
    }
   ],
   "source": [
    "df['species_'].unique()"
   ]
  },
  {
   "cell_type": "code",
   "execution_count": 426,
   "metadata": {},
   "outputs": [],
   "source": [
    "df.to_csv(\"../Ficheros/attack_limpieza2.csv\")"
   ]
  },
  {
   "cell_type": "markdown",
   "metadata": {},
   "source": [
    "2.Columna de age: es una columna de tipo string pero debería ser de tipo integer. Además, en esta columna nos vamos a encontrar con algunos errores tipográficos, estos incluyen:\n",
    "\n",
    "    Edad en formato string\n",
    "    Edades separadas por &, or, to, >\n",
    "    Edades con ?\n",
    "\n",
    "Vamos con algunas :bombilla: pistas :bombilla: para que os ayuden a entender cómo hacerlo:\n",
    "\n",
    "    Primero tendremos que eliminar todos esos símbolos especiales que nos aparecen. De nuevo, podremos usar regex para extraer unicamente los números que es lo que nos interesa. Usar este regex en una función para sacar solo los números.\n",
    "    Puede que os salga un error similar a este:\n",
    "    TypeError: expected string or bytes-like object\n",
    "    Para solucionar este problema, antes de nada tendréis que ejecutar este código para que no os de error:\n",
    "    df['nombre_columna'] = df['nombre_columna'].astype(str)\n",
    "    Una vez que hayáis extraido los números, os daréis cuenta que hay celdas que tienen más de una edad. Tendréis que decidir que hacer en esos casos. Os dejamos por aquí una posible opción usando un método de Pandas que os puede resultar super útil. El método explode, aqui.\n",
    "    Por último cambiad el tipo de la columna de string a integer."
   ]
  },
  {
   "cell_type": "code",
   "execution_count": 427,
   "metadata": {},
   "outputs": [
    {
     "data": {
      "text/plain": [
       "array([nan, 'young', '14', '19', '20', '15', '21', '27', '36', '25', '6',\n",
       "       '16', '50', '13 or 14', '57', '11', '48', '18', '52', '12', '32',\n",
       "       '10', '34', '30', '60', '33', '29', '54', '41', '37', '56', '69',\n",
       "       '38', '55', '35', '46', '45', '40s', '28', '24', '26', '49', '22',\n",
       "       '7', '31', '17', '40', '13', '42', '3', '8', '82', '73', '20s',\n",
       "       '68', '51', '39', '58', 'Teen', '47', '61', '65', '66', '43',\n",
       "       '60s', '9', '72', '59', '64', '23', '71', '44', '62', '63', '70',\n",
       "       '18 months', '53', '30s', '50s', 'teen', '77', '74', '28 & 26',\n",
       "       '5', '86', '18 or 20', '12 or 13', '46 & 34', '28, 23 & 30',\n",
       "       'Teens', '36 & 26', '8 or 10', '84', '\\xa0 ', ' ', '30 or 36',\n",
       "       '6½', '21 & ?', '75', '33 or 37', 'mid-30s', '23 & 20', ' 30',\n",
       "       '7      &    31', ' 28', '20?', \"60's\", '32 & 30', '16 to 18',\n",
       "       '87', '67', 'Elderly', 'mid-20s', 'Ca. 33', '74 ', '45 ',\n",
       "       '21 or 26', '20 ', '>50', '18 to 22', 'adult', '9 & 12', '? & 19',\n",
       "       '9 months', '25 to 35', '23 & 26', '1', '(adult)', '33 & 37',\n",
       "       '25 or 28', '37, 67, 35, 27,  ? & 27', '21, 34,24 & 35', '30 & 32',\n",
       "       '50 & 30', '17 & 35', 'X', '\"middle-age\"', '13 or 18', '34 & 19',\n",
       "       '33 & 26', '2 to 3 months', 'MAKE LINE GREEN', ' 43', '81',\n",
       "       '\"young\"', '7 or 8', '78', '17 & 16', 'F', 'Both 11', '9 or 10',\n",
       "       '36 & 23', '  ', 'A.M.', '?    &   14', '10 or 12', '31 or 33',\n",
       "       '2½'], dtype=object)"
      ]
     },
     "execution_count": 427,
     "metadata": {},
     "output_type": "execute_result"
    }
   ],
   "source": [
    "df['age'].unique() "
   ]
  },
  {
   "cell_type": "code",
   "execution_count": 428,
   "metadata": {},
   "outputs": [],
   "source": [
    "df=df.fillna(\"NAN\")"
   ]
  },
  {
   "cell_type": "code",
   "execution_count": 429,
   "metadata": {},
   "outputs": [],
   "source": [
    "patron_edades= r\"[\\d+]\""
   ]
  },
  {
   "cell_type": "code",
   "execution_count": 430,
   "metadata": {},
   "outputs": [],
   "source": [
    "def cambiar_edades(x):\n",
    "    if re.findall(patron_edades,x):\n",
    "        return x\n",
    "    else:\n",
    "        return 'NAN'\n",
    "\n"
   ]
  },
  {
   "cell_type": "code",
   "execution_count": 431,
   "metadata": {},
   "outputs": [],
   "source": [
    "df['nuevas_edades']= df['age'].apply(cambiar_edades)"
   ]
  },
  {
   "cell_type": "code",
   "execution_count": 432,
   "metadata": {},
   "outputs": [
    {
     "data": {
      "text/plain": [
       "array(['NAN', '14', '19', '20', '15', '21', '27', '36', '25', '6', '16',\n",
       "       '50', '13 or 14', '57', '11', '48', '18', '52', '12', '32', '10',\n",
       "       '34', '30', '60', '33', '29', '54', '41', '37', '56', '69', '38',\n",
       "       '55', '35', '46', '45', '40s', '28', '24', '26', '49', '22', '7',\n",
       "       '31', '17', '40', '13', '42', '3', '8', '82', '73', '20s', '68',\n",
       "       '51', '39', '58', '47', '61', '65', '66', '43', '60s', '9', '72',\n",
       "       '59', '64', '23', '71', '44', '62', '63', '70', '18 months', '53',\n",
       "       '30s', '50s', '77', '74', '28 & 26', '5', '86', '18 or 20',\n",
       "       '12 or 13', '46 & 34', '28, 23 & 30', '36 & 26', '8 or 10', '84',\n",
       "       '30 or 36', '6½', '21 & ?', '75', '33 or 37', 'mid-30s', '23 & 20',\n",
       "       ' 30', '7      &    31', ' 28', '20?', \"60's\", '32 & 30',\n",
       "       '16 to 18', '87', '67', 'mid-20s', 'Ca. 33', '74 ', '45 ',\n",
       "       '21 or 26', '20 ', '>50', '18 to 22', '9 & 12', '? & 19',\n",
       "       '9 months', '25 to 35', '23 & 26', '1', '33 & 37', '25 or 28',\n",
       "       '37, 67, 35, 27,  ? & 27', '21, 34,24 & 35', '30 & 32', '50 & 30',\n",
       "       '17 & 35', '13 or 18', '34 & 19', '33 & 26', '2 to 3 months',\n",
       "       ' 43', '81', '7 or 8', '78', '17 & 16', 'Both 11', '9 or 10',\n",
       "       '36 & 23', '?    &   14', '10 or 12', '31 or 33', '2½'],\n",
       "      dtype=object)"
      ]
     },
     "execution_count": 432,
     "metadata": {},
     "output_type": "execute_result"
    }
   ],
   "source": [
    "df['nuevas_edades'].unique()"
   ]
  },
  {
   "cell_type": "code",
   "execution_count": 433,
   "metadata": {},
   "outputs": [],
   "source": [
    "patron_s=r'[s]'"
   ]
  },
  {
   "cell_type": "code",
   "execution_count": 434,
   "metadata": {},
   "outputs": [
    {
     "data": {
      "text/plain": [
       "0       NAN\n",
       "1       NAN\n",
       "2       NAN\n",
       "3       NAN\n",
       "4       NAN\n",
       "       ... \n",
       "6279    NAN\n",
       "6280    NAN\n",
       "6281    NAN\n",
       "6282    NAN\n",
       "6283    NAN\n",
       "Name: nuevas_edades, Length: 6284, dtype: object"
      ]
     },
     "execution_count": 434,
     "metadata": {},
     "output_type": "execute_result"
    }
   ],
   "source": [
    "df['nuevas_edades']\n"
   ]
  },
  {
   "cell_type": "code",
   "execution_count": 435,
   "metadata": {},
   "outputs": [],
   "source": [
    "def cambiar_s(x):\n",
    "    if re.findall(patron_s,x):\n",
    "        return x.strip(patron_s)\n",
    "    else:\n",
    "        return x"
   ]
  },
  {
   "cell_type": "code",
   "execution_count": 436,
   "metadata": {},
   "outputs": [],
   "source": [
    "df['nuevas_edades']=df['nuevas_edades'].apply(cambiar_s)"
   ]
  },
  {
   "cell_type": "code",
   "execution_count": 437,
   "metadata": {},
   "outputs": [
    {
     "data": {
      "text/plain": [
       "array(['NAN', '14', '19', '20', '15', '21', '27', '36', '25', '6', '16',\n",
       "       '50', '13 or 14', '57', '11', '48', '18', '52', '12', '32', '10',\n",
       "       '34', '30', '60', '33', '29', '54', '41', '37', '56', '69', '38',\n",
       "       '55', '35', '46', '45', '40', '28', '24', '26', '49', '22', '7',\n",
       "       '31', '17', '13', '42', '3', '8', '82', '73', '68', '51', '39',\n",
       "       '58', '47', '61', '65', '66', '43', '9', '72', '59', '64', '23',\n",
       "       '71', '44', '62', '63', '70', '18 month', '53', '77', '74',\n",
       "       '28 & 26', '5', '86', '18 or 20', '12 or 13', '46 & 34',\n",
       "       '28, 23 & 30', '36 & 26', '8 or 10', '84', '30 or 36', '6½',\n",
       "       '21 & ?', '75', '33 or 37', 'mid-30', '23 & 20', ' 30',\n",
       "       '7      &    31', ' 28', '20?', \"60'\", '32 & 30', '16 to 18', '87',\n",
       "       '67', 'mid-20', 'Ca. 33', '74 ', '45 ', '21 or 26', '20 ', '>50',\n",
       "       '18 to 22', '9 & 12', '? & 19', '9 month', '25 to 35', '23 & 26',\n",
       "       '1', '33 & 37', '25 or 28', '37, 67, 35, 27,  ? & 27',\n",
       "       '21, 34,24 & 35', '30 & 32', '50 & 30', '17 & 35', '13 or 18',\n",
       "       '34 & 19', '33 & 26', '2 to 3 month', ' 43', '81', '7 or 8', '78',\n",
       "       '17 & 16', 'Both 11', '9 or 10', '36 & 23', '?    &   14',\n",
       "       '10 or 12', '31 or 33', '2½'], dtype=object)"
      ]
     },
     "execution_count": 437,
     "metadata": {},
     "output_type": "execute_result"
    }
   ],
   "source": [
    "df['nuevas_edades'].unique() "
   ]
  },
  {
   "cell_type": "code",
   "execution_count": 438,
   "metadata": {},
   "outputs": [],
   "source": [
    "patron_palabra=r'(month)|(Both)|(both)'"
   ]
  },
  {
   "cell_type": "code",
   "execution_count": 439,
   "metadata": {},
   "outputs": [],
   "source": [
    "def cambiar_month(x):\n",
    "    if re.findall(patron_palabra,x):\n",
    "        return x.replace(patron_palabra,'',regex=True)\n",
    "    else:\n",
    "        return x"
   ]
  },
  {
   "cell_type": "code",
   "execution_count": 440,
   "metadata": {},
   "outputs": [],
   "source": [
    "def cambiar_both(x):\n",
    "    if re.findall(patron_palabra,x):\n",
    "        return x.replace('Both','')\n",
    "    else:\n",
    "        return x"
   ]
  },
  {
   "cell_type": "code",
   "execution_count": 441,
   "metadata": {},
   "outputs": [
    {
     "ename": "TypeError",
     "evalue": "str.replace() takes no keyword arguments",
     "output_type": "error",
     "traceback": [
      "\u001b[1;31m---------------------------------------------------------------------------\u001b[0m",
      "\u001b[1;31mTypeError\u001b[0m                                 Traceback (most recent call last)",
      "\u001b[1;32mc:\\Users\\LARA\\Desktop\\adalab\\DA-MODULO-2-ANAIS-LUCIA-LARA\\LIMPIEZA\\limpieza_2_strings.ipynb Celda 26\u001b[0m in \u001b[0;36m<cell line: 1>\u001b[1;34m()\u001b[0m\n\u001b[1;32m----> <a href='vscode-notebook-cell:/c%3A/Users/LARA/Desktop/adalab/DA-MODULO-2-ANAIS-LUCIA-LARA/LIMPIEZA/limpieza_2_strings.ipynb#X36sZmlsZQ%3D%3D?line=0'>1</a>\u001b[0m df[\u001b[39m'\u001b[39m\u001b[39mnuevas_edades\u001b[39m\u001b[39m'\u001b[39m]\u001b[39m=\u001b[39mdf[\u001b[39m'\u001b[39;49m\u001b[39mnuevas_edades\u001b[39;49m\u001b[39m'\u001b[39;49m]\u001b[39m.\u001b[39;49mapply(cambiar_month)\n",
      "File \u001b[1;32m~\\AppData\\Local\\Packages\\PythonSoftwareFoundation.Python.3.10_qbz5n2kfra8p0\\LocalCache\\local-packages\\Python310\\site-packages\\pandas\\core\\series.py:4433\u001b[0m, in \u001b[0;36mSeries.apply\u001b[1;34m(self, func, convert_dtype, args, **kwargs)\u001b[0m\n\u001b[0;32m   4323\u001b[0m \u001b[39mdef\u001b[39;00m \u001b[39mapply\u001b[39m(\n\u001b[0;32m   4324\u001b[0m     \u001b[39mself\u001b[39m,\n\u001b[0;32m   4325\u001b[0m     func: AggFuncType,\n\u001b[1;32m   (...)\u001b[0m\n\u001b[0;32m   4328\u001b[0m     \u001b[39m*\u001b[39m\u001b[39m*\u001b[39mkwargs,\n\u001b[0;32m   4329\u001b[0m ) \u001b[39m-\u001b[39m\u001b[39m>\u001b[39m DataFrame \u001b[39m|\u001b[39m Series:\n\u001b[0;32m   4330\u001b[0m     \u001b[39m\"\"\"\u001b[39;00m\n\u001b[0;32m   4331\u001b[0m \u001b[39m    Invoke function on values of Series.\u001b[39;00m\n\u001b[0;32m   4332\u001b[0m \n\u001b[1;32m   (...)\u001b[0m\n\u001b[0;32m   4431\u001b[0m \u001b[39m    dtype: float64\u001b[39;00m\n\u001b[0;32m   4432\u001b[0m \u001b[39m    \"\"\"\u001b[39;00m\n\u001b[1;32m-> 4433\u001b[0m     \u001b[39mreturn\u001b[39;00m SeriesApply(\u001b[39mself\u001b[39;49m, func, convert_dtype, args, kwargs)\u001b[39m.\u001b[39;49mapply()\n",
      "File \u001b[1;32m~\\AppData\\Local\\Packages\\PythonSoftwareFoundation.Python.3.10_qbz5n2kfra8p0\\LocalCache\\local-packages\\Python310\\site-packages\\pandas\\core\\apply.py:1088\u001b[0m, in \u001b[0;36mSeriesApply.apply\u001b[1;34m(self)\u001b[0m\n\u001b[0;32m   1084\u001b[0m \u001b[39mif\u001b[39;00m \u001b[39misinstance\u001b[39m(\u001b[39mself\u001b[39m\u001b[39m.\u001b[39mf, \u001b[39mstr\u001b[39m):\n\u001b[0;32m   1085\u001b[0m     \u001b[39m# if we are a string, try to dispatch\u001b[39;00m\n\u001b[0;32m   1086\u001b[0m     \u001b[39mreturn\u001b[39;00m \u001b[39mself\u001b[39m\u001b[39m.\u001b[39mapply_str()\n\u001b[1;32m-> 1088\u001b[0m \u001b[39mreturn\u001b[39;00m \u001b[39mself\u001b[39;49m\u001b[39m.\u001b[39;49mapply_standard()\n",
      "File \u001b[1;32m~\\AppData\\Local\\Packages\\PythonSoftwareFoundation.Python.3.10_qbz5n2kfra8p0\\LocalCache\\local-packages\\Python310\\site-packages\\pandas\\core\\apply.py:1143\u001b[0m, in \u001b[0;36mSeriesApply.apply_standard\u001b[1;34m(self)\u001b[0m\n\u001b[0;32m   1137\u001b[0m         values \u001b[39m=\u001b[39m obj\u001b[39m.\u001b[39mastype(\u001b[39mobject\u001b[39m)\u001b[39m.\u001b[39m_values\n\u001b[0;32m   1138\u001b[0m         \u001b[39m# error: Argument 2 to \"map_infer\" has incompatible type\u001b[39;00m\n\u001b[0;32m   1139\u001b[0m         \u001b[39m# \"Union[Callable[..., Any], str, List[Union[Callable[..., Any], str]],\u001b[39;00m\n\u001b[0;32m   1140\u001b[0m         \u001b[39m# Dict[Hashable, Union[Union[Callable[..., Any], str],\u001b[39;00m\n\u001b[0;32m   1141\u001b[0m         \u001b[39m# List[Union[Callable[..., Any], str]]]]]\"; expected\u001b[39;00m\n\u001b[0;32m   1142\u001b[0m         \u001b[39m# \"Callable[[Any], Any]\"\u001b[39;00m\n\u001b[1;32m-> 1143\u001b[0m         mapped \u001b[39m=\u001b[39m lib\u001b[39m.\u001b[39;49mmap_infer(\n\u001b[0;32m   1144\u001b[0m             values,\n\u001b[0;32m   1145\u001b[0m             f,  \u001b[39m# type: ignore[arg-type]\u001b[39;49;00m\n\u001b[0;32m   1146\u001b[0m             convert\u001b[39m=\u001b[39;49m\u001b[39mself\u001b[39;49m\u001b[39m.\u001b[39;49mconvert_dtype,\n\u001b[0;32m   1147\u001b[0m         )\n\u001b[0;32m   1149\u001b[0m \u001b[39mif\u001b[39;00m \u001b[39mlen\u001b[39m(mapped) \u001b[39mand\u001b[39;00m \u001b[39misinstance\u001b[39m(mapped[\u001b[39m0\u001b[39m], ABCSeries):\n\u001b[0;32m   1150\u001b[0m     \u001b[39m# GH#43986 Need to do list(mapped) in order to get treated as nested\u001b[39;00m\n\u001b[0;32m   1151\u001b[0m     \u001b[39m#  See also GH#25959 regarding EA support\u001b[39;00m\n\u001b[0;32m   1152\u001b[0m     \u001b[39mreturn\u001b[39;00m obj\u001b[39m.\u001b[39m_constructor_expanddim(\u001b[39mlist\u001b[39m(mapped), index\u001b[39m=\u001b[39mobj\u001b[39m.\u001b[39mindex)\n",
      "File \u001b[1;32m~\\AppData\\Local\\Packages\\PythonSoftwareFoundation.Python.3.10_qbz5n2kfra8p0\\LocalCache\\local-packages\\Python310\\site-packages\\pandas\\_libs\\lib.pyx:2870\u001b[0m, in \u001b[0;36mpandas._libs.lib.map_infer\u001b[1;34m()\u001b[0m\n",
      "\u001b[1;32mc:\\Users\\LARA\\Desktop\\adalab\\DA-MODULO-2-ANAIS-LUCIA-LARA\\LIMPIEZA\\limpieza_2_strings.ipynb Celda 26\u001b[0m in \u001b[0;36mcambiar_month\u001b[1;34m(x)\u001b[0m\n\u001b[0;32m      <a href='vscode-notebook-cell:/c%3A/Users/LARA/Desktop/adalab/DA-MODULO-2-ANAIS-LUCIA-LARA/LIMPIEZA/limpieza_2_strings.ipynb#X36sZmlsZQ%3D%3D?line=0'>1</a>\u001b[0m \u001b[39mdef\u001b[39;00m \u001b[39mcambiar_month\u001b[39m(x):\n\u001b[0;32m      <a href='vscode-notebook-cell:/c%3A/Users/LARA/Desktop/adalab/DA-MODULO-2-ANAIS-LUCIA-LARA/LIMPIEZA/limpieza_2_strings.ipynb#X36sZmlsZQ%3D%3D?line=1'>2</a>\u001b[0m     \u001b[39mif\u001b[39;00m re\u001b[39m.\u001b[39mfindall(patron_palabra,x):\n\u001b[1;32m----> <a href='vscode-notebook-cell:/c%3A/Users/LARA/Desktop/adalab/DA-MODULO-2-ANAIS-LUCIA-LARA/LIMPIEZA/limpieza_2_strings.ipynb#X36sZmlsZQ%3D%3D?line=2'>3</a>\u001b[0m         \u001b[39mreturn\u001b[39;00m x\u001b[39m.\u001b[39;49mreplace(patron_palabra,\u001b[39m'\u001b[39;49m\u001b[39m'\u001b[39;49m,regex\u001b[39m=\u001b[39;49m\u001b[39mTrue\u001b[39;49;00m)\n\u001b[0;32m      <a href='vscode-notebook-cell:/c%3A/Users/LARA/Desktop/adalab/DA-MODULO-2-ANAIS-LUCIA-LARA/LIMPIEZA/limpieza_2_strings.ipynb#X36sZmlsZQ%3D%3D?line=3'>4</a>\u001b[0m     \u001b[39melse\u001b[39;00m:\n\u001b[0;32m      <a href='vscode-notebook-cell:/c%3A/Users/LARA/Desktop/adalab/DA-MODULO-2-ANAIS-LUCIA-LARA/LIMPIEZA/limpieza_2_strings.ipynb#X36sZmlsZQ%3D%3D?line=4'>5</a>\u001b[0m         \u001b[39mreturn\u001b[39;00m x\n",
      "\u001b[1;31mTypeError\u001b[0m: str.replace() takes no keyword arguments"
     ]
    }
   ],
   "source": [
    "df['nuevas_edades']=df['nuevas_edades'].apply(cambiar_month)"
   ]
  },
  {
   "cell_type": "code",
   "execution_count": null,
   "metadata": {},
   "outputs": [],
   "source": [
    "df['nuevas_edades']=df['nuevas_edades'].apply(cambiar_both)"
   ]
  },
  {
   "cell_type": "code",
   "execution_count": null,
   "metadata": {},
   "outputs": [
    {
     "data": {
      "text/plain": [
       "array(['NAN', '14', '19', '20', '15', '21', '27', '36', '25', '6', '16',\n",
       "       '50', '13 or 14', '57', '11', '48', '18', '52', '12', '32', '10',\n",
       "       '34', '30', '60', '33', '29', '54', '41', '37', '56', '69', '38',\n",
       "       '55', '35', '46', '45', '40', '28', '24', '26', '49', '22', '7',\n",
       "       '31', '17', '13', '42', '3', '8', '82', '73', '68', '51', '39',\n",
       "       '58', '47', '61', '65', '66', '43', '9', '72', '59', '64', '23',\n",
       "       '71', '44', '62', '63', '70', '18 ', '53', '77', '74', '28 & 26',\n",
       "       '5', '86', '18 or 20', '12 or 13', '46 & 34', '28, 23 & 30',\n",
       "       '36 & 26', '8 or 10', '84', '30 or 36', '6½', '21 & ?', '75',\n",
       "       '33 or 37', 'mid-30', '23 & 20', ' 30', '7      &    31', ' 28',\n",
       "       '20?', \"60'\", '32 & 30', '16 to 18', '87', '67', 'mid-20',\n",
       "       'Ca. 33', '74 ', '45 ', '21 or 26', '20 ', '>50', '18 to 22',\n",
       "       '9 & 12', '? & 19', '9 ', '25 to 35', '23 & 26', '1', '33 & 37',\n",
       "       '25 or 28', '37, 67, 35, 27,  ? & 27', '21, 34,24 & 35', '30 & 32',\n",
       "       '50 & 30', '17 & 35', '13 or 18', '34 & 19', '33 & 26', '2 to 3 ',\n",
       "       ' 43', '81', '7 or 8', '78', '17 & 16', ' 11', '9 or 10',\n",
       "       '36 & 23', '?    &   14', '10 or 12', '31 or 33', '2½'],\n",
       "      dtype=object)"
      ]
     },
     "execution_count": 390,
     "metadata": {},
     "output_type": "execute_result"
    }
   ],
   "source": [
    "df['nuevas_edades'].unique() "
   ]
  },
  {
   "cell_type": "code",
   "execution_count": null,
   "metadata": {},
   "outputs": [],
   "source": [
    "patron_or=r'(or)|(to)|(&)'"
   ]
  },
  {
   "cell_type": "code",
   "execution_count": null,
   "metadata": {},
   "outputs": [],
   "source": [
    "def cambiar_or(x):\n",
    "    if re.findall(patron_or,x):\n",
    "        return x.split('&')\n",
    "    elif re.findall(patron_or,x):\n",
    "        return x.split('or')\n",
    "    elif re.findall(patron_or,x):\n",
    "        return x.split('to')\n",
    "    else:\n",
    "        return x"
   ]
  },
  {
   "cell_type": "code",
   "execution_count": null,
   "metadata": {},
   "outputs": [],
   "source": [
    "df['nuevas_edades']=df['nuevas_edades'].apply(cambiar_or)"
   ]
  },
  {
   "cell_type": "code",
   "execution_count": null,
   "metadata": {},
   "outputs": [
    {
     "ename": "TypeError",
     "evalue": "unhashable type: 'list'",
     "output_type": "error",
     "traceback": [
      "\u001b[1;31m---------------------------------------------------------------------------\u001b[0m",
      "\u001b[1;31mTypeError\u001b[0m                                 Traceback (most recent call last)",
      "\u001b[1;32mc:\\Users\\LARA\\Desktop\\adalab\\DA-MODULO-2-ANAIS-LUCIA-LARA\\LIMPIEZA\\limpieza_2_strings.ipynb Celda 32\u001b[0m in \u001b[0;36m<cell line: 1>\u001b[1;34m()\u001b[0m\n\u001b[1;32m----> <a href='vscode-notebook-cell:/c%3A/Users/LARA/Desktop/adalab/DA-MODULO-2-ANAIS-LUCIA-LARA/LIMPIEZA/limpieza_2_strings.ipynb#X51sZmlsZQ%3D%3D?line=0'>1</a>\u001b[0m df[\u001b[39m'\u001b[39;49m\u001b[39mnuevas_edades\u001b[39;49m\u001b[39m'\u001b[39;49m]\u001b[39m.\u001b[39;49munique()\n",
      "File \u001b[1;32m~\\AppData\\Local\\Packages\\PythonSoftwareFoundation.Python.3.10_qbz5n2kfra8p0\\LocalCache\\local-packages\\Python310\\site-packages\\pandas\\core\\series.py:2088\u001b[0m, in \u001b[0;36mSeries.unique\u001b[1;34m(self)\u001b[0m\n\u001b[0;32m   2030\u001b[0m \u001b[39mdef\u001b[39;00m \u001b[39munique\u001b[39m(\u001b[39mself\u001b[39m) \u001b[39m-\u001b[39m\u001b[39m>\u001b[39m ArrayLike:\n\u001b[0;32m   2031\u001b[0m     \u001b[39m\"\"\"\u001b[39;00m\n\u001b[0;32m   2032\u001b[0m \u001b[39m    Return unique values of Series object.\u001b[39;00m\n\u001b[0;32m   2033\u001b[0m \n\u001b[1;32m   (...)\u001b[0m\n\u001b[0;32m   2086\u001b[0m \u001b[39m    Categories (3, object): ['a' < 'b' < 'c']\u001b[39;00m\n\u001b[0;32m   2087\u001b[0m \u001b[39m    \"\"\"\u001b[39;00m\n\u001b[1;32m-> 2088\u001b[0m     \u001b[39mreturn\u001b[39;00m \u001b[39msuper\u001b[39;49m()\u001b[39m.\u001b[39;49munique()\n",
      "File \u001b[1;32m~\\AppData\\Local\\Packages\\PythonSoftwareFoundation.Python.3.10_qbz5n2kfra8p0\\LocalCache\\local-packages\\Python310\\site-packages\\pandas\\core\\base.py:989\u001b[0m, in \u001b[0;36mIndexOpsMixin.unique\u001b[1;34m(self)\u001b[0m\n\u001b[0;32m    987\u001b[0m             result \u001b[39m=\u001b[39m np\u001b[39m.\u001b[39masarray(result)\n\u001b[0;32m    988\u001b[0m \u001b[39melse\u001b[39;00m:\n\u001b[1;32m--> 989\u001b[0m     result \u001b[39m=\u001b[39m unique1d(values)\n\u001b[0;32m    991\u001b[0m \u001b[39mreturn\u001b[39;00m result\n",
      "File \u001b[1;32m~\\AppData\\Local\\Packages\\PythonSoftwareFoundation.Python.3.10_qbz5n2kfra8p0\\LocalCache\\local-packages\\Python310\\site-packages\\pandas\\core\\algorithms.py:440\u001b[0m, in \u001b[0;36munique\u001b[1;34m(values)\u001b[0m\n\u001b[0;32m    437\u001b[0m htable, values \u001b[39m=\u001b[39m _get_hashtable_algo(values)\n\u001b[0;32m    439\u001b[0m table \u001b[39m=\u001b[39m htable(\u001b[39mlen\u001b[39m(values))\n\u001b[1;32m--> 440\u001b[0m uniques \u001b[39m=\u001b[39m table\u001b[39m.\u001b[39;49munique(values)\n\u001b[0;32m    441\u001b[0m uniques \u001b[39m=\u001b[39m _reconstruct_data(uniques, original\u001b[39m.\u001b[39mdtype, original)\n\u001b[0;32m    442\u001b[0m \u001b[39mreturn\u001b[39;00m uniques\n",
      "File \u001b[1;32mpandas\\_libs\\hashtable_class_helper.pxi:5361\u001b[0m, in \u001b[0;36mpandas._libs.hashtable.PyObjectHashTable.unique\u001b[1;34m()\u001b[0m\n",
      "File \u001b[1;32mpandas\\_libs\\hashtable_class_helper.pxi:5310\u001b[0m, in \u001b[0;36mpandas._libs.hashtable.PyObjectHashTable._unique\u001b[1;34m()\u001b[0m\n",
      "\u001b[1;31mTypeError\u001b[0m: unhashable type: 'list'"
     ]
    }
   ],
   "source": [
    "df['nuevas_edades'].unique()"
   ]
  }
 ],
 "metadata": {
  "kernelspec": {
   "display_name": "Python 3.10.7 64-bit (microsoft store)",
   "language": "python",
   "name": "python3"
  },
  "language_info": {
   "codemirror_mode": {
    "name": "ipython",
    "version": 3
   },
   "file_extension": ".py",
   "mimetype": "text/x-python",
   "name": "python",
   "nbconvert_exporter": "python",
   "pygments_lexer": "ipython3",
   "version": "3.10.7"
  },
  "orig_nbformat": 4,
  "vscode": {
   "interpreter": {
    "hash": "d6e80f66db0e40720662ef87f88d9f9a2c5410907eee4ad6602fd6533eb3af97"
   }
  }
 },
 "nbformat": 4,
 "nbformat_minor": 2
}
