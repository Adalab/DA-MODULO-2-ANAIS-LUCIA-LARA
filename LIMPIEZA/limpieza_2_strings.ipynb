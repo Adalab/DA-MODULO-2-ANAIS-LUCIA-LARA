{
 "cells": [
  {
   "cell_type": "markdown",
   "metadata": {},
   "source": [
    "\n",
    "\n",
    "\n",
    "3-Guarda el csv con las columnas limpias para seguir trabajando con este dataframe limpio.\n"
   ]
  },
  {
   "cell_type": "markdown",
   "metadata": {},
   "source": [
    "1- Columna de species: si exploramos esta columna en detalle nos podemos dar cuenta que tenemos muchos valores únicos y esto hace que sea muy difícil trabajar con esta columna. Lo que vamos a hacer es clasificar los tiburones en 5 especies diferentes, las más comunes, que incluyen el tiburón blanco (White), el tiburón tigre (Tiger ), el tiburón gris (Grey), el tiburón limón (Lemon) y el tiburón toro (Bull). El resto de las especies las incluiremos en un único grupo que podremos llamar \"Unspecified\". Ahora nos podemos sentir un poco abrumadas y no saber como enfrentarnos a este reto, pero don't worry, os dejamos por aquí unas 💡 pistas 💡 para que os ayuden a entender cómo hacerlo.\n",
    "   - Los valores de las columnas son strings por lo que podremos usar regex para buscar palabras clave en cada celda y asignarlo a una de las categorías que hemos definido previamente.\n",
    "   - Tendremos que crearnos una función que aplicaremos sobre nuestra columna species_ para que nos devuelva una nueva columna con los valores clasificados en función de los patrones de regex que hayamos definido.\n"
   ]
  },
  {
   "cell_type": "code",
   "execution_count": 1,
   "metadata": {},
   "outputs": [],
   "source": [
    "import pandas as pd\n",
    "import numpy as np\n",
    "import re\n",
    "df= pd.read_csv('../Ficheros/attack_limpieza1.csv')"
   ]
  },
  {
   "cell_type": "code",
   "execution_count": 2,
   "metadata": {},
   "outputs": [],
   "source": [
    "patron_blanco = r\".*[Ww](hite|HITE).*\"\n",
    "patron_tiger = r\".*[Tt](iger|IGER).*\"\n",
    "patron_grey = r\".*[Gg](rey|REY).*\"\n",
    "patron_lemon = r\".*[Ll](emon|EMON).*\"\n",
    "patron_bull = r\".*[Bb](ull|ULL).*\"\n",
    "patron_nan = r\"(NAN)\""
   ]
  },
  {
   "cell_type": "code",
   "execution_count": 3,
   "metadata": {},
   "outputs": [],
   "source": [
    "df=df.fillna(\"NAN\")"
   ]
  },
  {
   "cell_type": "code",
   "execution_count": 4,
   "metadata": {},
   "outputs": [],
   "source": [
    "def cambiar_especie(x):\n",
    "    if re.findall(patron_blanco,x):\n",
    "        return x.replace(x,'White')\n",
    "    elif re.findall(patron_tiger,x):\n",
    "        return x.replace(x,'Tiger')\n",
    "    elif re.findall(patron_grey,x):\n",
    "        return x.replace(x,'Grey')\n",
    "    elif re.findall(patron_lemon,x):\n",
    "        return x.replace(x,'Lemon')\n",
    "    elif re.findall(patron_bull,x):\n",
    "        return x.replace(x,'Bull')\n",
    "    elif re.findall(patron_nan,x):\n",
    "        return x.replace(x,'NAN')\n",
    "    else:\n",
    "        return x.replace(x,\"Unspecified\")\n",
    "    \n"
   ]
  },
  {
   "cell_type": "code",
   "execution_count": 5,
   "metadata": {},
   "outputs": [],
   "source": [
    "df['species_']= df['species_'].apply(cambiar_especie)"
   ]
  },
  {
   "cell_type": "code",
   "execution_count": 6,
   "metadata": {},
   "outputs": [],
   "source": [
    "df= df.apply(lambda x: x.replace('NAN', np.nan))"
   ]
  },
  {
   "cell_type": "code",
   "execution_count": 7,
   "metadata": {},
   "outputs": [
    {
     "data": {
      "text/plain": [
       "array([nan, 'Tiger', 'White', 'Unspecified', 'Bull', 'Grey', 'Lemon'],\n",
       "      dtype=object)"
      ]
     },
     "execution_count": 7,
     "metadata": {},
     "output_type": "execute_result"
    }
   ],
   "source": [
    "df['species_'].unique()"
   ]
  },
  {
   "cell_type": "code",
   "execution_count": 8,
   "metadata": {},
   "outputs": [],
   "source": [
    "df.to_csv(\"../Ficheros/attack_limpieza2.csv\")"
   ]
  },
  {
   "cell_type": "markdown",
   "metadata": {},
   "source": [
    "2.Columna de age: es una columna de tipo string pero debería ser de tipo integer. Además, en esta columna nos vamos a encontrar con algunos errores tipográficos, estos incluyen:\n",
    "\n",
    "    Edad en formato string\n",
    "    Edades separadas por &, or, to, >\n",
    "    Edades con ?\n",
    "\n",
    "Vamos con algunas :bombilla: pistas :bombilla: para que os ayuden a entender cómo hacerlo:\n",
    "\n",
    "    Primero tendremos que eliminar todos esos símbolos especiales que nos aparecen. De nuevo, podremos usar regex para extraer unicamente los números que es lo que nos interesa. Usar este regex en una función para sacar solo los números.\n",
    "    Puede que os salga un error similar a este:\n",
    "    TypeError: expected string or bytes-like object\n",
    "    Para solucionar este problema, antes de nada tendréis que ejecutar este código para que no os de error:\n",
    "    df['nombre_columna'] = df['nombre_columna'].astype(str)\n",
    "    Una vez que hayáis extraido los números, os daréis cuenta que hay celdas que tienen más de una edad. Tendréis que decidir que hacer en esos casos. Os dejamos por aquí una posible opción usando un método de Pandas que os puede resultar super útil. El método explode, aqui.\n",
    "    Por último cambiad el tipo de la columna de string a integer."
   ]
  },
  {
   "cell_type": "code",
   "execution_count": 9,
   "metadata": {},
   "outputs": [
    {
     "data": {
      "text/plain": [
       "array([nan, 'young', '14', '19', '20', '15', '21', '27', '36', '25', '6',\n",
       "       '16', '50', '13 or 14', '57', '11', '48', '18', '52', '12', '32',\n",
       "       '10', '34', '30', '60', '33', '29', '54', '41', '37', '56', '69',\n",
       "       '38', '55', '35', '46', '45', '40s', '28', '24', '26', '49', '22',\n",
       "       '7', '31', '17', '40', '13', '42', '3', '8', '82', '73', '20s',\n",
       "       '68', '51', '39', '58', 'Teen', '47', '61', '65', '66', '43',\n",
       "       '60s', '9', '72', '59', '64', '23', '71', '44', '62', '63', '70',\n",
       "       '18 months', '53', '30s', '50s', 'teen', '77', '74', '28 & 26',\n",
       "       '5', '86', '18 or 20', '12 or 13', '46 & 34', '28, 23 & 30',\n",
       "       'Teens', '36 & 26', '8 or 10', '84', '\\xa0 ', ' ', '30 or 36',\n",
       "       '6½', '21 & ?', '75', '33 or 37', 'mid-30s', '23 & 20', ' 30',\n",
       "       '7      &    31', ' 28', '20?', \"60's\", '32 & 30', '16 to 18',\n",
       "       '87', '67', 'Elderly', 'mid-20s', 'Ca. 33', '74 ', '45 ',\n",
       "       '21 or 26', '20 ', '>50', '18 to 22', 'adult', '9 & 12', '? & 19',\n",
       "       '9 months', '25 to 35', '23 & 26', '1', '(adult)', '33 & 37',\n",
       "       '25 or 28', '37, 67, 35, 27,  ? & 27', '21, 34,24 & 35', '30 & 32',\n",
       "       '50 & 30', '17 & 35', 'X', '\"middle-age\"', '13 or 18', '34 & 19',\n",
       "       '33 & 26', '2 to 3 months', 'MAKE LINE GREEN', ' 43', '81',\n",
       "       '\"young\"', '7 or 8', '78', '17 & 16', 'F', 'Both 11', '9 or 10',\n",
       "       '36 & 23', '  ', 'A.M.', '?    &   14', '10 or 12', '31 or 33',\n",
       "       '2½'], dtype=object)"
      ]
     },
     "execution_count": 9,
     "metadata": {},
     "output_type": "execute_result"
    }
   ],
   "source": [
    "df['age'].unique() "
   ]
  },
  {
   "cell_type": "code",
   "execution_count": 10,
   "metadata": {},
   "outputs": [],
   "source": [
    "df=df.fillna(\"NAN\")"
   ]
  },
  {
   "cell_type": "code",
   "execution_count": 11,
   "metadata": {},
   "outputs": [],
   "source": [
    "patron_edades= r\"[\\d+]\""
   ]
  },
  {
   "cell_type": "code",
   "execution_count": 12,
   "metadata": {},
   "outputs": [],
   "source": [
    "def cambiar_edades(x):\n",
    "    if re.findall(patron_edades,x):\n",
    "        return x\n",
    "    else:\n",
    "        return 'NAN'\n",
    "\n"
   ]
  },
  {
   "cell_type": "code",
   "execution_count": 13,
   "metadata": {},
   "outputs": [],
   "source": [
    "df['nuevas_edades']= df['age'].apply(cambiar_edades)"
   ]
  },
  {
   "cell_type": "code",
   "execution_count": 14,
   "metadata": {},
   "outputs": [
    {
     "data": {
      "text/plain": [
       "array(['NAN', '14', '19', '20', '15', '21', '27', '36', '25', '6', '16',\n",
       "       '50', '13 or 14', '57', '11', '48', '18', '52', '12', '32', '10',\n",
       "       '34', '30', '60', '33', '29', '54', '41', '37', '56', '69', '38',\n",
       "       '55', '35', '46', '45', '40s', '28', '24', '26', '49', '22', '7',\n",
       "       '31', '17', '40', '13', '42', '3', '8', '82', '73', '20s', '68',\n",
       "       '51', '39', '58', '47', '61', '65', '66', '43', '60s', '9', '72',\n",
       "       '59', '64', '23', '71', '44', '62', '63', '70', '18 months', '53',\n",
       "       '30s', '50s', '77', '74', '28 & 26', '5', '86', '18 or 20',\n",
       "       '12 or 13', '46 & 34', '28, 23 & 30', '36 & 26', '8 or 10', '84',\n",
       "       '30 or 36', '6½', '21 & ?', '75', '33 or 37', 'mid-30s', '23 & 20',\n",
       "       ' 30', '7      &    31', ' 28', '20?', \"60's\", '32 & 30',\n",
       "       '16 to 18', '87', '67', 'mid-20s', 'Ca. 33', '74 ', '45 ',\n",
       "       '21 or 26', '20 ', '>50', '18 to 22', '9 & 12', '? & 19',\n",
       "       '9 months', '25 to 35', '23 & 26', '1', '33 & 37', '25 or 28',\n",
       "       '37, 67, 35, 27,  ? & 27', '21, 34,24 & 35', '30 & 32', '50 & 30',\n",
       "       '17 & 35', '13 or 18', '34 & 19', '33 & 26', '2 to 3 months',\n",
       "       ' 43', '81', '7 or 8', '78', '17 & 16', 'Both 11', '9 or 10',\n",
       "       '36 & 23', '?    &   14', '10 or 12', '31 or 33', '2½'],\n",
       "      dtype=object)"
      ]
     },
     "execution_count": 14,
     "metadata": {},
     "output_type": "execute_result"
    }
   ],
   "source": [
    "df['nuevas_edades'].unique()"
   ]
  },
  {
   "cell_type": "code",
   "execution_count": 15,
   "metadata": {},
   "outputs": [],
   "source": [
    "patron_s=r'[s]'"
   ]
  },
  {
   "cell_type": "code",
   "execution_count": 16,
   "metadata": {},
   "outputs": [],
   "source": [
    "def cambiar_s(x):\n",
    "    if re.findall(patron_s,x):\n",
    "        return x.strip(patron_s)\n",
    "    else:\n",
    "        return x"
   ]
  },
  {
   "cell_type": "code",
   "execution_count": 17,
   "metadata": {},
   "outputs": [],
   "source": [
    "df['nuevas_edades']=df['nuevas_edades'].apply(cambiar_s)"
   ]
  },
  {
   "cell_type": "code",
   "execution_count": 18,
   "metadata": {},
   "outputs": [
    {
     "data": {
      "text/plain": [
       "array(['NAN', '14', '19', '20', '15', '21', '27', '36', '25', '6', '16',\n",
       "       '50', '13 or 14', '57', '11', '48', '18', '52', '12', '32', '10',\n",
       "       '34', '30', '60', '33', '29', '54', '41', '37', '56', '69', '38',\n",
       "       '55', '35', '46', '45', '40', '28', '24', '26', '49', '22', '7',\n",
       "       '31', '17', '13', '42', '3', '8', '82', '73', '68', '51', '39',\n",
       "       '58', '47', '61', '65', '66', '43', '9', '72', '59', '64', '23',\n",
       "       '71', '44', '62', '63', '70', '18 month', '53', '77', '74',\n",
       "       '28 & 26', '5', '86', '18 or 20', '12 or 13', '46 & 34',\n",
       "       '28, 23 & 30', '36 & 26', '8 or 10', '84', '30 or 36', '6½',\n",
       "       '21 & ?', '75', '33 or 37', 'mid-30', '23 & 20', ' 30',\n",
       "       '7      &    31', ' 28', '20?', \"60'\", '32 & 30', '16 to 18', '87',\n",
       "       '67', 'mid-20', 'Ca. 33', '74 ', '45 ', '21 or 26', '20 ', '>50',\n",
       "       '18 to 22', '9 & 12', '? & 19', '9 month', '25 to 35', '23 & 26',\n",
       "       '1', '33 & 37', '25 or 28', '37, 67, 35, 27,  ? & 27',\n",
       "       '21, 34,24 & 35', '30 & 32', '50 & 30', '17 & 35', '13 or 18',\n",
       "       '34 & 19', '33 & 26', '2 to 3 month', ' 43', '81', '7 or 8', '78',\n",
       "       '17 & 16', 'Both 11', '9 or 10', '36 & 23', '?    &   14',\n",
       "       '10 or 12', '31 or 33', '2½'], dtype=object)"
      ]
     },
     "execution_count": 18,
     "metadata": {},
     "output_type": "execute_result"
    }
   ],
   "source": [
    "df['nuevas_edades'].unique() "
   ]
  },
  {
   "cell_type": "code",
   "execution_count": 19,
   "metadata": {},
   "outputs": [],
   "source": [
    "patron_palabra=r'(month)|(Both)|(both)'"
   ]
  },
  {
   "cell_type": "code",
   "execution_count": 20,
   "metadata": {},
   "outputs": [],
   "source": [
    "def cambiar_month(x):\n",
    "    if re.findall(patron_palabra,x):\n",
    "        return re.sub(patron_palabra, \"\", x)\n",
    "    else:\n",
    "        return x"
   ]
  },
  {
   "cell_type": "code",
   "execution_count": 21,
   "metadata": {},
   "outputs": [],
   "source": [
    "df['nuevas_edades']=df['nuevas_edades'].apply(cambiar_month)"
   ]
  },
  {
   "cell_type": "code",
   "execution_count": 22,
   "metadata": {},
   "outputs": [
    {
     "data": {
      "text/plain": [
       "array(['NAN', '14', '19', '20', '15', '21', '27', '36', '25', '6', '16',\n",
       "       '50', '13 or 14', '57', '11', '48', '18', '52', '12', '32', '10',\n",
       "       '34', '30', '60', '33', '29', '54', '41', '37', '56', '69', '38',\n",
       "       '55', '35', '46', '45', '40', '28', '24', '26', '49', '22', '7',\n",
       "       '31', '17', '13', '42', '3', '8', '82', '73', '68', '51', '39',\n",
       "       '58', '47', '61', '65', '66', '43', '9', '72', '59', '64', '23',\n",
       "       '71', '44', '62', '63', '70', '18 ', '53', '77', '74', '28 & 26',\n",
       "       '5', '86', '18 or 20', '12 or 13', '46 & 34', '28, 23 & 30',\n",
       "       '36 & 26', '8 or 10', '84', '30 or 36', '6½', '21 & ?', '75',\n",
       "       '33 or 37', 'mid-30', '23 & 20', ' 30', '7      &    31', ' 28',\n",
       "       '20?', \"60'\", '32 & 30', '16 to 18', '87', '67', 'mid-20',\n",
       "       'Ca. 33', '74 ', '45 ', '21 or 26', '20 ', '>50', '18 to 22',\n",
       "       '9 & 12', '? & 19', '9 ', '25 to 35', '23 & 26', '1', '33 & 37',\n",
       "       '25 or 28', '37, 67, 35, 27,  ? & 27', '21, 34,24 & 35', '30 & 32',\n",
       "       '50 & 30', '17 & 35', '13 or 18', '34 & 19', '33 & 26', '2 to 3 ',\n",
       "       ' 43', '81', '7 or 8', '78', '17 & 16', ' 11', '9 or 10',\n",
       "       '36 & 23', '?    &   14', '10 or 12', '31 or 33', '2½'],\n",
       "      dtype=object)"
      ]
     },
     "execution_count": 22,
     "metadata": {},
     "output_type": "execute_result"
    }
   ],
   "source": [
    "df['nuevas_edades'].unique() "
   ]
  },
  {
   "cell_type": "code",
   "execution_count": 23,
   "metadata": {},
   "outputs": [],
   "source": [
    "patron_or=r'[\\D+]'"
   ]
  },
  {
   "cell_type": "code",
   "execution_count": 24,
   "metadata": {},
   "outputs": [],
   "source": [
    "def cambiar_or(x):\n",
    "    if re.findall(patron_or,x):\n",
    "        return re.split(patron_or, x)[0]\n",
    "    else:\n",
    "        return x\n",
    "   "
   ]
  },
  {
   "cell_type": "code",
   "execution_count": 25,
   "metadata": {},
   "outputs": [],
   "source": [
    "df['nuevas_edades']=df['nuevas_edades'].apply(cambiar_or)"
   ]
  },
  {
   "cell_type": "code",
   "execution_count": 26,
   "metadata": {},
   "outputs": [
    {
     "data": {
      "text/plain": [
       "array(['', '14', '19', '20', '15', '21', '27', '36', '25', '6', '16',\n",
       "       '50', '13', '57', '11', '48', '18', '52', '12', '32', '10', '34',\n",
       "       '30', '60', '33', '29', '54', '41', '37', '56', '69', '38', '55',\n",
       "       '35', '46', '45', '40', '28', '24', '26', '49', '22', '7', '31',\n",
       "       '17', '42', '3', '8', '82', '73', '68', '51', '39', '58', '47',\n",
       "       '61', '65', '66', '43', '9', '72', '59', '64', '23', '71', '44',\n",
       "       '62', '63', '70', '53', '77', '74', '5', '86', '84', '75', '87',\n",
       "       '67', '1', '2', '81', '78'], dtype=object)"
      ]
     },
     "execution_count": 26,
     "metadata": {},
     "output_type": "execute_result"
    }
   ],
   "source": [
    "df['nuevas_edades'].unique()"
   ]
  },
  {
   "cell_type": "code",
   "execution_count": 27,
   "metadata": {},
   "outputs": [
    {
     "data": {
      "text/plain": [
       "str"
      ]
     },
     "execution_count": 27,
     "metadata": {},
     "output_type": "execute_result"
    }
   ],
   "source": [
    "type(df.loc[162][\"nuevas_edades\"])"
   ]
  },
  {
   "cell_type": "code",
   "execution_count": 28,
   "metadata": {},
   "outputs": [],
   "source": [
    "def buscar(x):\n",
    "    if x == \"\":\n",
    "        return np.nan\n",
    "    else:\n",
    "        return x"
   ]
  },
  {
   "cell_type": "code",
   "execution_count": 29,
   "metadata": {},
   "outputs": [],
   "source": [
    "df['nuevas_edades']=df['nuevas_edades'].apply(buscar)"
   ]
  },
  {
   "cell_type": "code",
   "execution_count": 30,
   "metadata": {},
   "outputs": [
    {
     "data": {
      "text/plain": [
       "array([nan, '14', '19', '20', '15', '21', '27', '36', '25', '6', '16',\n",
       "       '50', '13', '57', '11', '48', '18', '52', '12', '32', '10', '34',\n",
       "       '30', '60', '33', '29', '54', '41', '37', '56', '69', '38', '55',\n",
       "       '35', '46', '45', '40', '28', '24', '26', '49', '22', '7', '31',\n",
       "       '17', '42', '3', '8', '82', '73', '68', '51', '39', '58', '47',\n",
       "       '61', '65', '66', '43', '9', '72', '59', '64', '23', '71', '44',\n",
       "       '62', '63', '70', '53', '77', '74', '5', '86', '84', '75', '87',\n",
       "       '67', '1', '2', '81', '78'], dtype=object)"
      ]
     },
     "execution_count": 30,
     "metadata": {},
     "output_type": "execute_result"
    }
   ],
   "source": [
    "df['nuevas_edades'].unique()"
   ]
  },
  {
   "cell_type": "code",
   "execution_count": 31,
   "metadata": {},
   "outputs": [
    {
     "data": {
      "text/html": [
       "<div>\n",
       "<style scoped>\n",
       "    .dataframe tbody tr th:only-of-type {\n",
       "        vertical-align: middle;\n",
       "    }\n",
       "\n",
       "    .dataframe tbody tr th {\n",
       "        vertical-align: top;\n",
       "    }\n",
       "\n",
       "    .dataframe thead th {\n",
       "        text-align: right;\n",
       "    }\n",
       "</style>\n",
       "<table border=\"1\" class=\"dataframe\">\n",
       "  <thead>\n",
       "    <tr style=\"text-align: right;\">\n",
       "      <th></th>\n",
       "      <th>Unnamed: 0</th>\n",
       "      <th>case_number</th>\n",
       "      <th>year</th>\n",
       "      <th>country</th>\n",
       "      <th>activity</th>\n",
       "      <th>age</th>\n",
       "      <th>species_</th>\n",
       "      <th>date</th>\n",
       "      <th>mes</th>\n",
       "      <th>fatal_</th>\n",
       "      <th>sex2</th>\n",
       "      <th>nuevas_edades</th>\n",
       "    </tr>\n",
       "  </thead>\n",
       "  <tbody>\n",
       "    <tr>\n",
       "      <th>424</th>\n",
       "      <td>424</td>\n",
       "      <td>2016.06.27</td>\n",
       "      <td>2016</td>\n",
       "      <td>usa</td>\n",
       "      <td>NAN</td>\n",
       "      <td>35</td>\n",
       "      <td>Unspecified</td>\n",
       "      <td>27-Jun-2016</td>\n",
       "      <td>Jun</td>\n",
       "      <td>n</td>\n",
       "      <td>M</td>\n",
       "      <td>35</td>\n",
       "    </tr>\n",
       "    <tr>\n",
       "      <th>5635</th>\n",
       "      <td>5635</td>\n",
       "      <td>1906.02.14.R</td>\n",
       "      <td>1906</td>\n",
       "      <td>new zealand</td>\n",
       "      <td>Swimming</td>\n",
       "      <td>NAN</td>\n",
       "      <td>Unspecified</td>\n",
       "      <td>Reported 14-Feb-1906</td>\n",
       "      <td>Feb</td>\n",
       "      <td>NAN</td>\n",
       "      <td>M</td>\n",
       "      <td>NaN</td>\n",
       "    </tr>\n",
       "    <tr>\n",
       "      <th>3039</th>\n",
       "      <td>3039</td>\n",
       "      <td>1984.09.30.b</td>\n",
       "      <td>1984</td>\n",
       "      <td>usa</td>\n",
       "      <td>Surfing (sitting on his board)</td>\n",
       "      <td>25</td>\n",
       "      <td>White</td>\n",
       "      <td>30-Sep-1984</td>\n",
       "      <td>Sep</td>\n",
       "      <td>n</td>\n",
       "      <td>M</td>\n",
       "      <td>25</td>\n",
       "    </tr>\n",
       "    <tr>\n",
       "      <th>5593</th>\n",
       "      <td>5593</td>\n",
       "      <td>1908.05.10</td>\n",
       "      <td>1908</td>\n",
       "      <td>usa</td>\n",
       "      <td>NAN</td>\n",
       "      <td>NAN</td>\n",
       "      <td>Unspecified</td>\n",
       "      <td>10-May-1908</td>\n",
       "      <td>May</td>\n",
       "      <td>NAN</td>\n",
       "      <td>M</td>\n",
       "      <td>NaN</td>\n",
       "    </tr>\n",
       "    <tr>\n",
       "      <th>1358</th>\n",
       "      <td>1358</td>\n",
       "      <td>2008.11.06</td>\n",
       "      <td>2008</td>\n",
       "      <td>philippines</td>\n",
       "      <td>Fishing</td>\n",
       "      <td>39</td>\n",
       "      <td>NAN</td>\n",
       "      <td>06-Nov-2008</td>\n",
       "      <td>Nov</td>\n",
       "      <td>y</td>\n",
       "      <td>M</td>\n",
       "      <td>39</td>\n",
       "    </tr>\n",
       "    <tr>\n",
       "      <th>2530</th>\n",
       "      <td>2530</td>\n",
       "      <td>1995.07.28.b</td>\n",
       "      <td>1995</td>\n",
       "      <td>usa</td>\n",
       "      <td>Standing</td>\n",
       "      <td>18</td>\n",
       "      <td>NAN</td>\n",
       "      <td>28-Jul-1995</td>\n",
       "      <td>Jul</td>\n",
       "      <td>n</td>\n",
       "      <td>M</td>\n",
       "      <td>18</td>\n",
       "    </tr>\n",
       "    <tr>\n",
       "      <th>2481</th>\n",
       "      <td>2481</td>\n",
       "      <td>1996.02.05</td>\n",
       "      <td>1996</td>\n",
       "      <td>dominican republic</td>\n",
       "      <td>Boeing 757 enroute from Porta Plata plunged in...</td>\n",
       "      <td>NAN</td>\n",
       "      <td>NAN</td>\n",
       "      <td>05-Feb-1996</td>\n",
       "      <td>Feb</td>\n",
       "      <td>y</td>\n",
       "      <td>NAN</td>\n",
       "      <td>NaN</td>\n",
       "    </tr>\n",
       "    <tr>\n",
       "      <th>5209</th>\n",
       "      <td>5209</td>\n",
       "      <td>1930.01.22</td>\n",
       "      <td>1930</td>\n",
       "      <td>mexico</td>\n",
       "      <td>Fishing schooner Jose Luis foundered</td>\n",
       "      <td>NAN</td>\n",
       "      <td>NAN</td>\n",
       "      <td>22-Jan-1930</td>\n",
       "      <td>Jan</td>\n",
       "      <td>y</td>\n",
       "      <td>NAN</td>\n",
       "      <td>NaN</td>\n",
       "    </tr>\n",
       "    <tr>\n",
       "      <th>3670</th>\n",
       "      <td>3670</td>\n",
       "      <td>1967.09.01</td>\n",
       "      <td>1967</td>\n",
       "      <td>papua new guinea</td>\n",
       "      <td>Spearfishing</td>\n",
       "      <td>23</td>\n",
       "      <td>Unspecified</td>\n",
       "      <td>01-Sep-1967</td>\n",
       "      <td>Sep</td>\n",
       "      <td>y</td>\n",
       "      <td>M</td>\n",
       "      <td>23</td>\n",
       "    </tr>\n",
       "    <tr>\n",
       "      <th>1107</th>\n",
       "      <td>1107</td>\n",
       "      <td>2011.03.10</td>\n",
       "      <td>2011</td>\n",
       "      <td>australia</td>\n",
       "      <td>Surfing</td>\n",
       "      <td>NAN</td>\n",
       "      <td>NAN</td>\n",
       "      <td>10-Mar-2011</td>\n",
       "      <td>Mar</td>\n",
       "      <td>n</td>\n",
       "      <td>M</td>\n",
       "      <td>NaN</td>\n",
       "    </tr>\n",
       "    <tr>\n",
       "      <th>1121</th>\n",
       "      <td>1121</td>\n",
       "      <td>2011.01.12.R</td>\n",
       "      <td>2011</td>\n",
       "      <td>mexico</td>\n",
       "      <td>Attempting to fix motor</td>\n",
       "      <td>37</td>\n",
       "      <td>NAN</td>\n",
       "      <td>Reported 12-Jan 2011</td>\n",
       "      <td>NAN</td>\n",
       "      <td>n</td>\n",
       "      <td>M</td>\n",
       "      <td>37</td>\n",
       "    </tr>\n",
       "    <tr>\n",
       "      <th>5395</th>\n",
       "      <td>5395</td>\n",
       "      <td>1921.11.27.a</td>\n",
       "      <td>1921</td>\n",
       "      <td>australia</td>\n",
       "      <td>Wading to dinghy, carrying his son</td>\n",
       "      <td>40</td>\n",
       "      <td>NAN</td>\n",
       "      <td>27-Nov-1921</td>\n",
       "      <td>Nov</td>\n",
       "      <td>n</td>\n",
       "      <td>M</td>\n",
       "      <td>40</td>\n",
       "    </tr>\n",
       "    <tr>\n",
       "      <th>1040</th>\n",
       "      <td>1040</td>\n",
       "      <td>2011.08.28.b</td>\n",
       "      <td>2011</td>\n",
       "      <td>australia</td>\n",
       "      <td>Swimming</td>\n",
       "      <td>48</td>\n",
       "      <td>Unspecified</td>\n",
       "      <td>28-Aug-2011</td>\n",
       "      <td>Aug</td>\n",
       "      <td>NAN</td>\n",
       "      <td>M</td>\n",
       "      <td>48</td>\n",
       "    </tr>\n",
       "    <tr>\n",
       "      <th>5892</th>\n",
       "      <td>5892</td>\n",
       "      <td>1887.10.00</td>\n",
       "      <td>1887</td>\n",
       "      <td>bahamas</td>\n",
       "      <td>Sea disaster, wreck of the Alfred Watts</td>\n",
       "      <td>NAN</td>\n",
       "      <td>NAN</td>\n",
       "      <td>October 1887</td>\n",
       "      <td>NAN</td>\n",
       "      <td>y</td>\n",
       "      <td>M</td>\n",
       "      <td>NaN</td>\n",
       "    </tr>\n",
       "    <tr>\n",
       "      <th>5436</th>\n",
       "      <td>5436</td>\n",
       "      <td>1918.03.22</td>\n",
       "      <td>1918</td>\n",
       "      <td>australia</td>\n",
       "      <td>Surfing</td>\n",
       "      <td>NAN</td>\n",
       "      <td>Unspecified</td>\n",
       "      <td>22-Mar-1918</td>\n",
       "      <td>Mar</td>\n",
       "      <td>n</td>\n",
       "      <td>M</td>\n",
       "      <td>NaN</td>\n",
       "    </tr>\n",
       "    <tr>\n",
       "      <th>5262</th>\n",
       "      <td>5262</td>\n",
       "      <td>1928.05.17</td>\n",
       "      <td>1928</td>\n",
       "      <td>india</td>\n",
       "      <td>NAN</td>\n",
       "      <td>NAN</td>\n",
       "      <td>Unspecified</td>\n",
       "      <td>27-May-1928</td>\n",
       "      <td>May</td>\n",
       "      <td>NAN</td>\n",
       "      <td>M</td>\n",
       "      <td>NaN</td>\n",
       "    </tr>\n",
       "    <tr>\n",
       "      <th>3079</th>\n",
       "      <td>3079</td>\n",
       "      <td>1983.11.10</td>\n",
       "      <td>1983</td>\n",
       "      <td>south africa</td>\n",
       "      <td>Swimming</td>\n",
       "      <td>NAN</td>\n",
       "      <td>Unspecified</td>\n",
       "      <td>10-Nov-1983</td>\n",
       "      <td>Nov</td>\n",
       "      <td>NAN</td>\n",
       "      <td>F</td>\n",
       "      <td>NaN</td>\n",
       "    </tr>\n",
       "    <tr>\n",
       "      <th>5508</th>\n",
       "      <td>5508</td>\n",
       "      <td>1913.09.03</td>\n",
       "      <td>1913</td>\n",
       "      <td>croatia</td>\n",
       "      <td>NAN</td>\n",
       "      <td>NAN</td>\n",
       "      <td>Unspecified</td>\n",
       "      <td>03-Sep-1913</td>\n",
       "      <td>Sep</td>\n",
       "      <td>n</td>\n",
       "      <td>M</td>\n",
       "      <td>NaN</td>\n",
       "    </tr>\n",
       "    <tr>\n",
       "      <th>3186</th>\n",
       "      <td>3186</td>\n",
       "      <td>1981.06.12</td>\n",
       "      <td>1981</td>\n",
       "      <td>usa</td>\n",
       "      <td>NAN</td>\n",
       "      <td>NAN</td>\n",
       "      <td>Unspecified</td>\n",
       "      <td>12-Jun-1981</td>\n",
       "      <td>Jun</td>\n",
       "      <td>NAN</td>\n",
       "      <td>M</td>\n",
       "      <td>NaN</td>\n",
       "    </tr>\n",
       "    <tr>\n",
       "      <th>5663</th>\n",
       "      <td>5663</td>\n",
       "      <td>1904.02.07</td>\n",
       "      <td>1904</td>\n",
       "      <td>australia</td>\n",
       "      <td>Swimming after his hat</td>\n",
       "      <td>NAN</td>\n",
       "      <td>NAN</td>\n",
       "      <td>07-Feb-1904</td>\n",
       "      <td>Feb</td>\n",
       "      <td>y</td>\n",
       "      <td>M</td>\n",
       "      <td>NaN</td>\n",
       "    </tr>\n",
       "  </tbody>\n",
       "</table>\n",
       "</div>"
      ],
      "text/plain": [
       "      Unnamed: 0   case_number  year             country  \\\n",
       "424          424    2016.06.27  2016                 usa   \n",
       "5635        5635  1906.02.14.R  1906         new zealand   \n",
       "3039        3039  1984.09.30.b  1984                 usa   \n",
       "5593        5593    1908.05.10  1908                 usa   \n",
       "1358        1358    2008.11.06  2008         philippines   \n",
       "2530        2530  1995.07.28.b  1995                 usa   \n",
       "2481        2481    1996.02.05  1996  dominican republic   \n",
       "5209        5209    1930.01.22  1930              mexico   \n",
       "3670        3670    1967.09.01  1967    papua new guinea   \n",
       "1107        1107    2011.03.10  2011           australia   \n",
       "1121        1121  2011.01.12.R  2011              mexico   \n",
       "5395        5395  1921.11.27.a  1921           australia   \n",
       "1040        1040  2011.08.28.b  2011           australia   \n",
       "5892        5892    1887.10.00  1887             bahamas   \n",
       "5436        5436    1918.03.22  1918           australia   \n",
       "5262        5262    1928.05.17  1928               india   \n",
       "3079        3079    1983.11.10  1983        south africa   \n",
       "5508        5508    1913.09.03  1913             croatia   \n",
       "3186        3186    1981.06.12  1981                 usa   \n",
       "5663        5663    1904.02.07  1904           australia   \n",
       "\n",
       "                                               activity  age     species_  \\\n",
       "424                                                 NAN   35  Unspecified   \n",
       "5635                                           Swimming  NAN  Unspecified   \n",
       "3039                     Surfing (sitting on his board)   25        White   \n",
       "5593                                                NAN  NAN  Unspecified   \n",
       "1358                                            Fishing   39          NAN   \n",
       "2530                                           Standing   18          NAN   \n",
       "2481  Boeing 757 enroute from Porta Plata plunged in...  NAN          NAN   \n",
       "5209               Fishing schooner Jose Luis foundered  NAN          NAN   \n",
       "3670                                       Spearfishing   23  Unspecified   \n",
       "1107                                            Surfing  NAN          NAN   \n",
       "1121                            Attempting to fix motor   37          NAN   \n",
       "5395                 Wading to dinghy, carrying his son   40          NAN   \n",
       "1040                                           Swimming   48  Unspecified   \n",
       "5892            Sea disaster, wreck of the Alfred Watts  NAN          NAN   \n",
       "5436                                            Surfing  NAN  Unspecified   \n",
       "5262                                                NAN  NAN  Unspecified   \n",
       "3079                                           Swimming  NAN  Unspecified   \n",
       "5508                                                NAN  NAN  Unspecified   \n",
       "3186                                                NAN  NAN  Unspecified   \n",
       "5663                             Swimming after his hat  NAN          NAN   \n",
       "\n",
       "                      date  mes fatal_ sex2 nuevas_edades  \n",
       "424            27-Jun-2016  Jun      n    M            35  \n",
       "5635  Reported 14-Feb-1906  Feb    NAN    M           NaN  \n",
       "3039           30-Sep-1984  Sep      n    M            25  \n",
       "5593           10-May-1908  May    NAN    M           NaN  \n",
       "1358           06-Nov-2008  Nov      y    M            39  \n",
       "2530           28-Jul-1995  Jul      n    M            18  \n",
       "2481           05-Feb-1996  Feb      y  NAN           NaN  \n",
       "5209           22-Jan-1930  Jan      y  NAN           NaN  \n",
       "3670           01-Sep-1967  Sep      y    M            23  \n",
       "1107           10-Mar-2011  Mar      n    M           NaN  \n",
       "1121  Reported 12-Jan 2011  NAN      n    M            37  \n",
       "5395           27-Nov-1921  Nov      n    M            40  \n",
       "1040           28-Aug-2011  Aug    NAN    M            48  \n",
       "5892          October 1887  NAN      y    M           NaN  \n",
       "5436           22-Mar-1918  Mar      n    M           NaN  \n",
       "5262           27-May-1928  May    NAN    M           NaN  \n",
       "3079           10-Nov-1983  Nov    NAN    F           NaN  \n",
       "5508           03-Sep-1913  Sep      n    M           NaN  \n",
       "3186           12-Jun-1981  Jun    NAN    M           NaN  \n",
       "5663           07-Feb-1904  Feb      y    M           NaN  "
      ]
     },
     "execution_count": 31,
     "metadata": {},
     "output_type": "execute_result"
    }
   ],
   "source": [
    "df.sample(20)"
   ]
  },
  {
   "cell_type": "code",
   "execution_count": 32,
   "metadata": {},
   "outputs": [],
   "source": [
    "def cambiar_int(x):\n",
    "    if type(x) == str:\n",
    "        return int(x)\n",
    "    else:\n",
    "        return x"
   ]
  },
  {
   "cell_type": "code",
   "execution_count": 33,
   "metadata": {},
   "outputs": [],
   "source": [
    "df['nuevas_edades']=df['nuevas_edades'].apply(cambiar_int)"
   ]
  },
  {
   "cell_type": "code",
   "execution_count": 34,
   "metadata": {},
   "outputs": [
    {
     "data": {
      "text/plain": [
       "array([nan, 14., 19., 20., 15., 21., 27., 36., 25.,  6., 16., 50., 13.,\n",
       "       57., 11., 48., 18., 52., 12., 32., 10., 34., 30., 60., 33., 29.,\n",
       "       54., 41., 37., 56., 69., 38., 55., 35., 46., 45., 40., 28., 24.,\n",
       "       26., 49., 22.,  7., 31., 17., 42.,  3.,  8., 82., 73., 68., 51.,\n",
       "       39., 58., 47., 61., 65., 66., 43.,  9., 72., 59., 64., 23., 71.,\n",
       "       44., 62., 63., 70., 53., 77., 74.,  5., 86., 84., 75., 87., 67.,\n",
       "        1.,  2., 81., 78.])"
      ]
     },
     "execution_count": 34,
     "metadata": {},
     "output_type": "execute_result"
    }
   ],
   "source": [
    "df['nuevas_edades'].unique()"
   ]
  },
  {
   "cell_type": "markdown",
   "metadata": {},
   "source": [
    "3 Guarda el csv con las columnas limpias para seguir trabajando con este dataframe limpio"
   ]
  },
  {
   "cell_type": "code",
   "execution_count": 35,
   "metadata": {},
   "outputs": [],
   "source": [
    "df.to_csv(\"../Ficheros/attack_limpieza2.csv\")"
   ]
  }
 ],
 "metadata": {
  "kernelspec": {
   "display_name": "Python 3.9.7 ('base')",
   "language": "python",
   "name": "python3"
  },
  "language_info": {
   "codemirror_mode": {
    "name": "ipython",
    "version": 3
   },
   "file_extension": ".py",
   "mimetype": "text/x-python",
   "name": "python",
   "nbconvert_exporter": "python",
   "pygments_lexer": "ipython3",
   "version": "3.9.7"
  },
  "orig_nbformat": 4,
  "vscode": {
   "interpreter": {
    "hash": "fd3399778ecca89ccfd38c8963bbc048ff3198ccc7f9219d1f9dd0c6b6412bb5"
   }
  }
 },
 "nbformat": 4,
 "nbformat_minor": 2
}
