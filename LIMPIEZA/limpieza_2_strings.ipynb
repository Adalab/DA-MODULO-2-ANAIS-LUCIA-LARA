{
 "cells": [
  {
   "cell_type": "markdown",
   "metadata": {},
   "source": [
    "\n",
    "\n",
    "\n",
    "3-Guarda el csv con las columnas limpias para seguir trabajando con este dataframe limpio.\n"
   ]
  },
  {
   "cell_type": "markdown",
   "metadata": {},
   "source": [
    "1- Columna de species: si exploramos esta columna en detalle nos podemos dar cuenta que tenemos muchos valores únicos y esto hace que sea muy difícil trabajar con esta columna. Lo que vamos a hacer es clasificar los tiburones en 5 especies diferentes, las más comunes, que incluyen el tiburón blanco (White), el tiburón tigre (Tiger ), el tiburón gris (Grey), el tiburón limón (Lemon) y el tiburón toro (Bull). El resto de las especies las incluiremos en un único grupo que podremos llamar \"Unspecified\". Ahora nos podemos sentir un poco abrumadas y no saber como enfrentarnos a este reto, pero don't worry, os dejamos por aquí unas 💡 pistas 💡 para que os ayuden a entender cómo hacerlo.\n",
    "   - Los valores de las columnas son strings por lo que podremos usar regex para buscar palabras clave en cada celda y asignarlo a una de las categorías que hemos definido previamente.\n",
    "   - Tendremos que crearnos una función que aplicaremos sobre nuestra columna species_ para que nos devuelva una nueva columna con los valores clasificados en función de los patrones de regex que hayamos definido.\n"
   ]
  },
  {
   "cell_type": "code",
   "execution_count": 3,
   "metadata": {},
   "outputs": [],
   "source": [
    "import pandas as pd\n",
    "import numpy as np\n",
    "import re\n",
    "df= pd.read_csv('../Ficheros/attack_limpieza1.csv')"
   ]
  },
  {
   "cell_type": "code",
   "execution_count": 6,
   "metadata": {},
   "outputs": [],
   "source": [
    "patron_blanco = r\".*[Ww](hite|HITE).*\"\n",
    "patron_tiger = r\".*[Tt](iger|IGER).*\"\n",
    "patron_grey = r\".*[Gg](rey|REY).*\"\n",
    "patron_lemon = r\".*[Ll](emon|EMON).*\"\n",
    "patron_bull = r\".*[Bb](ull|ULL).*\"\n",
    "patron_nan = r\"(NAN)\""
   ]
  },
  {
   "cell_type": "code",
   "execution_count": 8,
   "metadata": {},
   "outputs": [],
   "source": [
    "df=df.fillna(\"NAN\")"
   ]
  },
  {
   "cell_type": "code",
   "execution_count": 9,
   "metadata": {},
   "outputs": [],
   "source": [
    "def cambiar_especie(x):\n",
    "    if re.findall(patron_blanco,x):\n",
    "        return x.replace(x,'White')\n",
    "    elif re.findall(patron_tiger,x):\n",
    "        return x.replace(x,'Tiger')\n",
    "    elif re.findall(patron_grey,x):\n",
    "        return x.replace(x,'Grey')\n",
    "    elif re.findall(patron_lemon,x):\n",
    "        return x.replace(x,'Lemon')\n",
    "    elif re.findall(patron_bull,x):\n",
    "        return x.replace(x,'Bull')\n",
    "    elif re.findall(patron_nan,x):\n",
    "        return x.replace(x,'NAN')\n",
    "    else:\n",
    "        return x.replace(x,\"Unspecified\")\n",
    "    \n"
   ]
  },
  {
   "cell_type": "code",
   "execution_count": 12,
   "metadata": {},
   "outputs": [],
   "source": [
    "df['species_']= df['species_'].apply(cambiar_especie)"
   ]
  },
  {
   "cell_type": "code",
   "execution_count": 14,
   "metadata": {},
   "outputs": [],
   "source": [
    "df= df.apply(lambda x: x.replace('NAN', np.nan))"
   ]
  },
  {
   "cell_type": "code",
   "execution_count": 15,
   "metadata": {},
   "outputs": [
    {
     "data": {
      "text/plain": [
       "array([nan, 'Tiger', 'White', 'Unspecified', 'Bull', 'Grey', 'Lemon'],\n",
       "      dtype=object)"
      ]
     },
     "execution_count": 15,
     "metadata": {},
     "output_type": "execute_result"
    }
   ],
   "source": [
    "df['species_'].unique()"
   ]
  },
  {
   "cell_type": "markdown",
   "metadata": {},
   "source": [
    "2.Columna de age: es una columna de tipo string pero debería ser de tipo integer. Además, en esta columna nos vamos a encontrar con algunos errores tipográficos, estos incluyen:\n",
    "\n",
    "    Edad en formato string\n",
    "    Edades separadas por &, or, to, >\n",
    "    Edades con ?\n",
    "\n",
    "Vamos con algunas :bombilla: pistas :bombilla: para que os ayuden a entender cómo hacerlo:\n",
    "\n",
    "    Primero tendremos que eliminar todos esos símbolos especiales que nos aparecen. De nuevo, podremos usar regex para extraer unicamente los números que es lo que nos interesa. Usar este regex en una función para sacar solo los números.\n",
    "    Puede que os salga un error similar a este:\n",
    "    TypeError: expected string or bytes-like object\n",
    "    Para solucionar este problema, antes de nada tendréis que ejecutar este código para que no os de error:\n",
    "    df['nombre_columna'] = df['nombre_columna'].astype(str)\n",
    "    Una vez que hayáis extraido los números, os daréis cuenta que hay celdas que tienen más de una edad. Tendréis que decidir que hacer en esos casos. Os dejamos por aquí una posible opción usando un método de Pandas que os puede resultar super útil. El método explode, aqui.\n",
    "    Por último cambiad el tipo de la columna de string a integer."
   ]
  },
  {
   "cell_type": "code",
   "execution_count": 16,
   "metadata": {},
   "outputs": [
    {
     "data": {
      "text/plain": [
       "array([nan, 'young', '14', '19', '20', '15', '21', '27', '36', '25', '6',\n",
       "       '16', '50', '13 or 14', '57', '11', '48', '18', '52', '12', '32',\n",
       "       '10', '34', '30', '60', '33', '29', '54', '41', '37', '56', '69',\n",
       "       '38', '55', '35', '46', '45', '40s', '28', '24', '26', '49', '22',\n",
       "       '7', '31', '17', '40', '13', '42', '3', '8', '82', '73', '20s',\n",
       "       '68', '51', '39', '58', 'Teen', '47', '61', '65', '66', '43',\n",
       "       '60s', '9', '72', '59', '64', '23', '71', '44', '62', '63', '70',\n",
       "       '18 months', '53', '30s', '50s', 'teen', '77', '74', '28 & 26',\n",
       "       '5', '86', '18 or 20', '12 or 13', '46 & 34', '28, 23 & 30',\n",
       "       'Teens', '36 & 26', '8 or 10', '84', '\\xa0 ', ' ', '30 or 36',\n",
       "       '6½', '21 & ?', '75', '33 or 37', 'mid-30s', '23 & 20', ' 30',\n",
       "       '7      &    31', ' 28', '20?', \"60's\", '32 & 30', '16 to 18',\n",
       "       '87', '67', 'Elderly', 'mid-20s', 'Ca. 33', '74 ', '45 ',\n",
       "       '21 or 26', '20 ', '>50', '18 to 22', 'adult', '9 & 12', '? & 19',\n",
       "       '9 months', '25 to 35', '23 & 26', '1', '(adult)', '33 & 37',\n",
       "       '25 or 28', '37, 67, 35, 27,  ? & 27', '21, 34,24 & 35', '30 & 32',\n",
       "       '50 & 30', '17 & 35', 'X', '\"middle-age\"', '13 or 18', '34 & 19',\n",
       "       '33 & 26', '2 to 3 months', 'MAKE LINE GREEN', ' 43', '81',\n",
       "       '\"young\"', '7 or 8', '78', '17 & 16', 'F', 'Both 11', '9 or 10',\n",
       "       '36 & 23', '  ', 'A.M.', '?    &   14', '10 or 12', '31 or 33',\n",
       "       '2½'], dtype=object)"
      ]
     },
     "execution_count": 16,
     "metadata": {},
     "output_type": "execute_result"
    }
   ],
   "source": [
    "df['age'].unique() "
   ]
  },
  {
   "cell_type": "code",
   "execution_count": 20,
   "metadata": {},
   "outputs": [],
   "source": [
    "df=df.fillna(\"NAN\")"
   ]
  },
  {
   "cell_type": "code",
   "execution_count": 21,
   "metadata": {},
   "outputs": [],
   "source": [
    "patron_edades= r\"[\\d.]\""
   ]
  },
  {
   "cell_type": "code",
   "execution_count": 22,
   "metadata": {},
   "outputs": [],
   "source": [
    "def cambiar_edades(x):\n",
    "    if re.findall(patron_edades,x):\n",
    "        return x"
   ]
  },
  {
   "cell_type": "code",
   "execution_count": 23,
   "metadata": {},
   "outputs": [],
   "source": [
    "df['nuevas_edades']= df['age'].apply(cambiar_edades)"
   ]
  },
  {
   "cell_type": "code",
   "execution_count": 25,
   "metadata": {},
   "outputs": [
    {
     "data": {
      "text/plain": [
       "array([None, '14', '19', '20', '15', '21', '27', '36', '25', '6', '16',\n",
       "       '50', '13 or 14', '57', '11', '48', '18', '52', '12', '32', '10',\n",
       "       '34', '30', '60', '33', '29', '54', '41', '37', '56', '69', '38',\n",
       "       '55', '35', '46', '45', '40s', '28', '24', '26', '49', '22', '7',\n",
       "       '31', '17', '40', '13', '42', '3', '8', '82', '73', '20s', '68',\n",
       "       '51', '39', '58', '47', '61', '65', '66', '43', '60s', '9', '72',\n",
       "       '59', '64', '23', '71', '44', '62', '63', '70', '18 months', '53',\n",
       "       '30s', '50s', '77', '74', '28 & 26', '5', '86', '18 or 20',\n",
       "       '12 or 13', '46 & 34', '28, 23 & 30', '36 & 26', '8 or 10', '84',\n",
       "       '30 or 36', '6½', '21 & ?', '75', '33 or 37', 'mid-30s', '23 & 20',\n",
       "       ' 30', '7      &    31', ' 28', '20?', \"60's\", '32 & 30',\n",
       "       '16 to 18', '87', '67', 'mid-20s', 'Ca. 33', '74 ', '45 ',\n",
       "       '21 or 26', '20 ', '>50', '18 to 22', '9 & 12', '? & 19',\n",
       "       '9 months', '25 to 35', '23 & 26', '1', '33 & 37', '25 or 28',\n",
       "       '37, 67, 35, 27,  ? & 27', '21, 34,24 & 35', '30 & 32', '50 & 30',\n",
       "       '17 & 35', '13 or 18', '34 & 19', '33 & 26', '2 to 3 months',\n",
       "       ' 43', '81', '7 or 8', '78', '17 & 16', 'Both 11', '9 or 10',\n",
       "       '36 & 23', 'A.M.', '?    &   14', '10 or 12', '31 or 33', '2½'],\n",
       "      dtype=object)"
      ]
     },
     "execution_count": 25,
     "metadata": {},
     "output_type": "execute_result"
    }
   ],
   "source": [
    "df['nuevas_edades'].unique()"
   ]
  },
  {
   "cell_type": "code",
   "execution_count": 27,
   "metadata": {},
   "outputs": [],
   "source": [
    "patron_caca=r'[&|<|?|>|s]'"
   ]
  },
  {
   "cell_type": "code",
   "execution_count": 26,
   "metadata": {},
   "outputs": [],
   "source": [
    "def cambiar_edade(x):\n",
    "    if re.findall(patron_caca,x):\n",
    "        return x"
   ]
  },
  {
   "cell_type": "code",
   "execution_count": 28,
   "metadata": {},
   "outputs": [],
   "source": [
    "df['nuevas_edades']= df['age'].apply(cambiar_edade)"
   ]
  },
  {
   "cell_type": "code",
   "execution_count": 29,
   "metadata": {},
   "outputs": [
    {
     "data": {
      "text/plain": [
       "array([None, '40s', '20s', '60s', '18 months', '30s', '50s', '28 & 26',\n",
       "       '46 & 34', '28, 23 & 30', 'Teens', '36 & 26', '21 & ?', 'mid-30s',\n",
       "       '23 & 20', '7      &    31', '20?', \"60's\", '32 & 30', 'mid-20s',\n",
       "       '>50', '9 & 12', '? & 19', '9 months', '23 & 26', '33 & 37',\n",
       "       '37, 67, 35, 27,  ? & 27', '21, 34,24 & 35', '30 & 32', '50 & 30',\n",
       "       '17 & 35', '34 & 19', '33 & 26', '2 to 3 months', '17 & 16',\n",
       "       '36 & 23', '?    &   14'], dtype=object)"
      ]
     },
     "execution_count": 29,
     "metadata": {},
     "output_type": "execute_result"
    }
   ],
   "source": [
    "df['nuevas_edades'].unique() # no los ha borrado, se ha quedado con esos solo"
   ]
  }
 ],
 "metadata": {
  "kernelspec": {
   "display_name": "Python 3.10.7 64-bit (microsoft store)",
   "language": "python",
   "name": "python3"
  },
  "language_info": {
   "codemirror_mode": {
    "name": "ipython",
    "version": 3
   },
   "file_extension": ".py",
   "mimetype": "text/x-python",
   "name": "python",
   "nbconvert_exporter": "python",
   "pygments_lexer": "ipython3",
   "version": "3.10.7"
  },
  "orig_nbformat": 4,
  "vscode": {
   "interpreter": {
    "hash": "d6e80f66db0e40720662ef87f88d9f9a2c5410907eee4ad6602fd6533eb3af97"
   }
  }
 },
 "nbformat": 4,
 "nbformat_minor": 2
}
