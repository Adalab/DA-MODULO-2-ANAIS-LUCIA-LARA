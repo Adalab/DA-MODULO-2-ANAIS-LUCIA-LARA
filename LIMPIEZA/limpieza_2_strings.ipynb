{
 "cells": [
  {
   "cell_type": "markdown",
   "metadata": {},
   "source": [
    "1- Columna de species: si exploramos esta columna en detalle nos podemos dar cuenta que tenemos muchos valores únicos y esto hace que sea muy difícil trabajar con esta columna. Lo que vamos a hacer es clasificar los tiburones en 5 especies diferentes, las más comunes, que incluyen el tiburón blanco (White), el tiburón tigre (Tiger ), el tiburón gris (Grey), el tiburón limón (Lemon) y el tiburón toro (Bull). El resto de las especies las incluiremos en un único grupo que podremos llamar \"Unspecified\". Ahora nos podemos sentir un poco abrumadas y no saber como enfrentarnos a este reto, pero don't worry, os dejamos por aquí unas 💡 pistas 💡 para que os ayuden a entender cómo hacerlo.\n",
    "   - Los valores de las columnas son strings por lo que podremos usar regex para buscar palabras clave en cada celda y asignarlo a una de las categorías que hemos definido previamente.\n",
    "   - Tendremos que crearnos una función que aplicaremos sobre nuestra columna species_ para que nos devuelva una nueva columna con los valores clasificados en función de los patrones de regex que hayamos definido.\n"
   ]
  },
  {
   "cell_type": "code",
   "execution_count": 1,
   "metadata": {},
   "outputs": [],
   "source": [
    "import pandas as pd\n",
    "import numpy as np\n",
    "import re\n",
    "df= pd.read_csv('../Ficheros/attack_limpieza1.csv', index_col = 0)"
   ]
  },
  {
   "cell_type": "code",
   "execution_count": 2,
   "metadata": {},
   "outputs": [],
   "source": [
    "patron_blanco = r\".*[Ww](hite|HITE).*\"\n",
    "patron_tiger = r\".*[Tt](iger|IGER).*\"\n",
    "patron_grey = r\".*[Gg](rey|REY).*\"\n",
    "patron_lemon = r\".*[Ll](emon|EMON).*\"\n",
    "patron_bull = r\".*[Bb](ull|ULL).*\"\n",
    "patron_nan = r\"(NAN)\""
   ]
  },
  {
   "cell_type": "code",
   "execution_count": 3,
   "metadata": {},
   "outputs": [],
   "source": [
    "df=df.fillna(\"NAN\")"
   ]
  },
  {
   "cell_type": "code",
   "execution_count": 4,
   "metadata": {},
   "outputs": [],
   "source": [
    "def cambiar_especie(x):\n",
    "    if re.findall(patron_blanco,x):\n",
    "        return x.replace(x,'White')\n",
    "    elif re.findall(patron_tiger,x):\n",
    "        return x.replace(x,'Tiger')\n",
    "    elif re.findall(patron_grey,x):\n",
    "        return x.replace(x,'Grey')\n",
    "    elif re.findall(patron_lemon,x):\n",
    "        return x.replace(x,'Lemon')\n",
    "    elif re.findall(patron_bull,x):\n",
    "        return x.replace(x,'Bull')\n",
    "    elif re.findall(patron_nan,x):\n",
    "        return x.replace(x,'NAN')\n",
    "    else:\n",
    "        return x.replace(x,\"Unspecified\") \n"
   ]
  },
  {
   "cell_type": "code",
   "execution_count": 5,
   "metadata": {},
   "outputs": [],
   "source": [
    "df['species_']= df['species_'].apply(cambiar_especie)"
   ]
  },
  {
   "cell_type": "code",
   "execution_count": 6,
   "metadata": {},
   "outputs": [],
   "source": [
    "df= df.apply(lambda x: x.replace('NAN', np.nan))"
   ]
  },
  {
   "cell_type": "code",
   "execution_count": 7,
   "metadata": {},
   "outputs": [
    {
     "data": {
      "text/plain": [
       "array([nan, 'Tiger', 'White', 'Unspecified', 'Bull', 'Grey', 'Lemon'],\n",
       "      dtype=object)"
      ]
     },
     "execution_count": 7,
     "metadata": {},
     "output_type": "execute_result"
    }
   ],
   "source": [
    "df['species_'].unique()"
   ]
  },
  {
   "cell_type": "markdown",
   "metadata": {},
   "source": [
    "2.Columna de age: es una columna de tipo string pero debería ser de tipo integer. Además, en esta columna nos vamos a encontrar con algunos errores tipográficos, estos incluyen:\n",
    "\n",
    "    Edad en formato string\n",
    "    Edades separadas por &, or, to, >\n",
    "    Edades con ?\n",
    "\n",
    "Vamos con algunas :bombilla: pistas :bombilla: para que os ayuden a entender cómo hacerlo:\n",
    "\n",
    "    Primero tendremos que eliminar todos esos símbolos especiales que nos aparecen. De nuevo, podremos usar regex para extraer unicamente los números que es lo que nos interesa. Usar este regex en una función para sacar solo los números.\n",
    "    Puede que os salga un error similar a este:\n",
    "    TypeError: expected string or bytes-like object\n",
    "    Para solucionar este problema, antes de nada tendréis que ejecutar este código para que no os de error:\n",
    "    df['nombre_columna'] = df['nombre_columna'].astype(str)\n",
    "    Una vez que hayáis extraido los números, os daréis cuenta que hay celdas que tienen más de una edad. Tendréis que decidir que hacer en esos casos. Os dejamos por aquí una posible opción usando un método de Pandas que os puede resultar super útil. El método explode, aqui.\n",
    "    Por último cambiad el tipo de la columna de string a integer."
   ]
  },
  {
   "cell_type": "code",
   "execution_count": 8,
   "metadata": {},
   "outputs": [
    {
     "data": {
      "text/plain": [
       "array([nan, 'young', '14', '19', '20', '15', '21', '27', '36', '25', '6',\n",
       "       '16', '50', '13 or 14', '57', '11', '48', '18', '52', '12', '32',\n",
       "       '10', '34', '30', '60', '33', '29', '54', '41', '37', '56', '69',\n",
       "       '38', '55', '35', '46', '45', '40s', '28', '24', '26', '49', '22',\n",
       "       '7', '31', '17', '40', '13', '42', '3', '8', '82', '73', '20s',\n",
       "       '68', '51', '39', '58', 'Teen', '47', '61', '65', '66', '43',\n",
       "       '60s', '9', '72', '59', '64', '23', '71', '44', '62', '63', '70',\n",
       "       '18 months', '53', '30s', '50s', 'teen', '77', '74', '28 & 26',\n",
       "       '5', '86', '18 or 20', '12 or 13', '46 & 34', '28, 23 & 30',\n",
       "       'Teens', '36 & 26', '8 or 10', '84', '\\xa0 ', ' ', '30 or 36',\n",
       "       '6½', '21 & ?', '75', '33 or 37', 'mid-30s', '23 & 20', ' 30',\n",
       "       '7      &    31', ' 28', '20?', \"60's\", '32 & 30', '16 to 18',\n",
       "       '87', '67', 'Elderly', 'mid-20s', 'Ca. 33', '74 ', '45 ',\n",
       "       '21 or 26', '20 ', '>50', '18 to 22', 'adult', '9 & 12', '? & 19',\n",
       "       '9 months', '25 to 35', '23 & 26', '1', '(adult)', '33 & 37',\n",
       "       '25 or 28', '37, 67, 35, 27,  ? & 27', '21, 34,24 & 35', '30 & 32',\n",
       "       '50 & 30', '17 & 35', 'X', '\"middle-age\"', '13 or 18', '34 & 19',\n",
       "       '33 & 26', '2 to 3 months', 'MAKE LINE GREEN', ' 43', '81',\n",
       "       '\"young\"', '7 or 8', '78', '17 & 16', 'F', 'Both 11', '9 or 10',\n",
       "       '36 & 23', '  ', 'A.M.', '?    &   14', '10 or 12', '31 or 33',\n",
       "       '2½'], dtype=object)"
      ]
     },
     "execution_count": 8,
     "metadata": {},
     "output_type": "execute_result"
    }
   ],
   "source": [
    "df['age'].unique() "
   ]
  },
  {
   "cell_type": "code",
   "execution_count": 9,
   "metadata": {},
   "outputs": [],
   "source": [
    "df=df.fillna(\"NAN\")"
   ]
  },
  {
   "cell_type": "code",
   "execution_count": 10,
   "metadata": {},
   "outputs": [],
   "source": [
    "patron_edades= r\"[\\d+]\""
   ]
  },
  {
   "cell_type": "code",
   "execution_count": 11,
   "metadata": {},
   "outputs": [],
   "source": [
    "def cambiar_edades(x):\n",
    "    if re.findall(patron_edades,x):\n",
    "        return x\n",
    "    else:\n",
    "        return 'NAN'\n"
   ]
  },
  {
   "cell_type": "code",
   "execution_count": 12,
   "metadata": {},
   "outputs": [],
   "source": [
    "df['nuevas_edades']= df['age'].apply(cambiar_edades)"
   ]
  },
  {
   "cell_type": "code",
   "execution_count": 13,
   "metadata": {},
   "outputs": [
    {
     "data": {
      "text/plain": [
       "array(['NAN', '14', '19', '20', '15', '21', '27', '36', '25', '6', '16',\n",
       "       '50', '13 or 14', '57', '11', '48', '18', '52', '12', '32', '10',\n",
       "       '34', '30', '60', '33', '29', '54', '41', '37', '56', '69', '38',\n",
       "       '55', '35', '46', '45', '40s', '28', '24', '26', '49', '22', '7',\n",
       "       '31', '17', '40', '13', '42', '3', '8', '82', '73', '20s', '68',\n",
       "       '51', '39', '58', '47', '61', '65', '66', '43', '60s', '9', '72',\n",
       "       '59', '64', '23', '71', '44', '62', '63', '70', '18 months', '53',\n",
       "       '30s', '50s', '77', '74', '28 & 26', '5', '86', '18 or 20',\n",
       "       '12 or 13', '46 & 34', '28, 23 & 30', '36 & 26', '8 or 10', '84',\n",
       "       '30 or 36', '6½', '21 & ?', '75', '33 or 37', 'mid-30s', '23 & 20',\n",
       "       ' 30', '7      &    31', ' 28', '20?', \"60's\", '32 & 30',\n",
       "       '16 to 18', '87', '67', 'mid-20s', 'Ca. 33', '74 ', '45 ',\n",
       "       '21 or 26', '20 ', '>50', '18 to 22', '9 & 12', '? & 19',\n",
       "       '9 months', '25 to 35', '23 & 26', '1', '33 & 37', '25 or 28',\n",
       "       '37, 67, 35, 27,  ? & 27', '21, 34,24 & 35', '30 & 32', '50 & 30',\n",
       "       '17 & 35', '13 or 18', '34 & 19', '33 & 26', '2 to 3 months',\n",
       "       ' 43', '81', '7 or 8', '78', '17 & 16', 'Both 11', '9 or 10',\n",
       "       '36 & 23', '?    &   14', '10 or 12', '31 or 33', '2½'],\n",
       "      dtype=object)"
      ]
     },
     "execution_count": 13,
     "metadata": {},
     "output_type": "execute_result"
    }
   ],
   "source": [
    "df['nuevas_edades'].unique()"
   ]
  },
  {
   "cell_type": "code",
   "execution_count": 14,
   "metadata": {},
   "outputs": [],
   "source": [
    "patron_s=r'[s]'"
   ]
  },
  {
   "cell_type": "code",
   "execution_count": 15,
   "metadata": {},
   "outputs": [],
   "source": [
    "def cambiar_s(x):\n",
    "    if re.findall(patron_s,x):\n",
    "        return x.strip(patron_s)\n",
    "    else:\n",
    "        return x"
   ]
  },
  {
   "cell_type": "code",
   "execution_count": 16,
   "metadata": {},
   "outputs": [],
   "source": [
    "df['nuevas_edades']=df['nuevas_edades'].apply(cambiar_s)"
   ]
  },
  {
   "cell_type": "code",
   "execution_count": 17,
   "metadata": {},
   "outputs": [
    {
     "data": {
      "text/plain": [
       "array(['NAN', '14', '19', '20', '15', '21', '27', '36', '25', '6', '16',\n",
       "       '50', '13 or 14', '57', '11', '48', '18', '52', '12', '32', '10',\n",
       "       '34', '30', '60', '33', '29', '54', '41', '37', '56', '69', '38',\n",
       "       '55', '35', '46', '45', '40', '28', '24', '26', '49', '22', '7',\n",
       "       '31', '17', '13', '42', '3', '8', '82', '73', '68', '51', '39',\n",
       "       '58', '47', '61', '65', '66', '43', '9', '72', '59', '64', '23',\n",
       "       '71', '44', '62', '63', '70', '18 month', '53', '77', '74',\n",
       "       '28 & 26', '5', '86', '18 or 20', '12 or 13', '46 & 34',\n",
       "       '28, 23 & 30', '36 & 26', '8 or 10', '84', '30 or 36', '6½',\n",
       "       '21 & ?', '75', '33 or 37', 'mid-30', '23 & 20', ' 30',\n",
       "       '7      &    31', ' 28', '20?', \"60'\", '32 & 30', '16 to 18', '87',\n",
       "       '67', 'mid-20', 'Ca. 33', '74 ', '45 ', '21 or 26', '20 ', '>50',\n",
       "       '18 to 22', '9 & 12', '? & 19', '9 month', '25 to 35', '23 & 26',\n",
       "       '1', '33 & 37', '25 or 28', '37, 67, 35, 27,  ? & 27',\n",
       "       '21, 34,24 & 35', '30 & 32', '50 & 30', '17 & 35', '13 or 18',\n",
       "       '34 & 19', '33 & 26', '2 to 3 month', ' 43', '81', '7 or 8', '78',\n",
       "       '17 & 16', 'Both 11', '9 or 10', '36 & 23', '?    &   14',\n",
       "       '10 or 12', '31 or 33', '2½'], dtype=object)"
      ]
     },
     "execution_count": 17,
     "metadata": {},
     "output_type": "execute_result"
    }
   ],
   "source": [
    "df['nuevas_edades'].unique() "
   ]
  },
  {
   "cell_type": "code",
   "execution_count": 18,
   "metadata": {},
   "outputs": [],
   "source": [
    "patron_palabra=r'(month)|(Both)|(both)'"
   ]
  },
  {
   "cell_type": "code",
   "execution_count": 19,
   "metadata": {},
   "outputs": [],
   "source": [
    "def cambiar_month(x):\n",
    "    if re.findall(patron_palabra,x):\n",
    "        return re.sub(patron_palabra, \"\", x)\n",
    "    else:\n",
    "        return x"
   ]
  },
  {
   "cell_type": "code",
   "execution_count": 20,
   "metadata": {},
   "outputs": [],
   "source": [
    "df['nuevas_edades']=df['nuevas_edades'].apply(cambiar_month)"
   ]
  },
  {
   "cell_type": "code",
   "execution_count": 21,
   "metadata": {},
   "outputs": [
    {
     "data": {
      "text/plain": [
       "array(['NAN', '14', '19', '20', '15', '21', '27', '36', '25', '6', '16',\n",
       "       '50', '13 or 14', '57', '11', '48', '18', '52', '12', '32', '10',\n",
       "       '34', '30', '60', '33', '29', '54', '41', '37', '56', '69', '38',\n",
       "       '55', '35', '46', '45', '40', '28', '24', '26', '49', '22', '7',\n",
       "       '31', '17', '13', '42', '3', '8', '82', '73', '68', '51', '39',\n",
       "       '58', '47', '61', '65', '66', '43', '9', '72', '59', '64', '23',\n",
       "       '71', '44', '62', '63', '70', '18 ', '53', '77', '74', '28 & 26',\n",
       "       '5', '86', '18 or 20', '12 or 13', '46 & 34', '28, 23 & 30',\n",
       "       '36 & 26', '8 or 10', '84', '30 or 36', '6½', '21 & ?', '75',\n",
       "       '33 or 37', 'mid-30', '23 & 20', ' 30', '7      &    31', ' 28',\n",
       "       '20?', \"60'\", '32 & 30', '16 to 18', '87', '67', 'mid-20',\n",
       "       'Ca. 33', '74 ', '45 ', '21 or 26', '20 ', '>50', '18 to 22',\n",
       "       '9 & 12', '? & 19', '9 ', '25 to 35', '23 & 26', '1', '33 & 37',\n",
       "       '25 or 28', '37, 67, 35, 27,  ? & 27', '21, 34,24 & 35', '30 & 32',\n",
       "       '50 & 30', '17 & 35', '13 or 18', '34 & 19', '33 & 26', '2 to 3 ',\n",
       "       ' 43', '81', '7 or 8', '78', '17 & 16', ' 11', '9 or 10',\n",
       "       '36 & 23', '?    &   14', '10 or 12', '31 or 33', '2½'],\n",
       "      dtype=object)"
      ]
     },
     "execution_count": 21,
     "metadata": {},
     "output_type": "execute_result"
    }
   ],
   "source": [
    "df['nuevas_edades'].unique() "
   ]
  },
  {
   "cell_type": "code",
   "execution_count": 22,
   "metadata": {},
   "outputs": [],
   "source": [
    "patron_or=r'[\\D+]'"
   ]
  },
  {
   "cell_type": "code",
   "execution_count": 23,
   "metadata": {},
   "outputs": [],
   "source": [
    "def cambiar_or(x):\n",
    "    if re.findall(patron_or,x):\n",
    "        return re.split(patron_or, x)[0]\n",
    "    else:\n",
    "        return x"
   ]
  },
  {
   "cell_type": "code",
   "execution_count": 24,
   "metadata": {},
   "outputs": [],
   "source": [
    "df['nuevas_edades']=df['nuevas_edades'].apply(cambiar_or)"
   ]
  },
  {
   "cell_type": "code",
   "execution_count": 25,
   "metadata": {},
   "outputs": [
    {
     "data": {
      "text/plain": [
       "array(['', '14', '19', '20', '15', '21', '27', '36', '25', '6', '16',\n",
       "       '50', '13', '57', '11', '48', '18', '52', '12', '32', '10', '34',\n",
       "       '30', '60', '33', '29', '54', '41', '37', '56', '69', '38', '55',\n",
       "       '35', '46', '45', '40', '28', '24', '26', '49', '22', '7', '31',\n",
       "       '17', '42', '3', '8', '82', '73', '68', '51', '39', '58', '47',\n",
       "       '61', '65', '66', '43', '9', '72', '59', '64', '23', '71', '44',\n",
       "       '62', '63', '70', '53', '77', '74', '5', '86', '84', '75', '87',\n",
       "       '67', '1', '2', '81', '78'], dtype=object)"
      ]
     },
     "execution_count": 25,
     "metadata": {},
     "output_type": "execute_result"
    }
   ],
   "source": [
    "df['nuevas_edades'].unique()"
   ]
  },
  {
   "cell_type": "code",
   "execution_count": 26,
   "metadata": {},
   "outputs": [
    {
     "data": {
      "text/plain": [
       "str"
      ]
     },
     "execution_count": 26,
     "metadata": {},
     "output_type": "execute_result"
    }
   ],
   "source": [
    "type(df.loc[162][\"nuevas_edades\"])"
   ]
  },
  {
   "cell_type": "code",
   "execution_count": 27,
   "metadata": {},
   "outputs": [],
   "source": [
    "def buscar(x):\n",
    "    if x == \"\":\n",
    "        return np.nan\n",
    "    else:\n",
    "        return x"
   ]
  },
  {
   "cell_type": "code",
   "execution_count": 28,
   "metadata": {},
   "outputs": [],
   "source": [
    "df['nuevas_edades']=df['nuevas_edades'].apply(buscar)"
   ]
  },
  {
   "cell_type": "code",
   "execution_count": 29,
   "metadata": {},
   "outputs": [
    {
     "data": {
      "text/plain": [
       "array([nan, '14', '19', '20', '15', '21', '27', '36', '25', '6', '16',\n",
       "       '50', '13', '57', '11', '48', '18', '52', '12', '32', '10', '34',\n",
       "       '30', '60', '33', '29', '54', '41', '37', '56', '69', '38', '55',\n",
       "       '35', '46', '45', '40', '28', '24', '26', '49', '22', '7', '31',\n",
       "       '17', '42', '3', '8', '82', '73', '68', '51', '39', '58', '47',\n",
       "       '61', '65', '66', '43', '9', '72', '59', '64', '23', '71', '44',\n",
       "       '62', '63', '70', '53', '77', '74', '5', '86', '84', '75', '87',\n",
       "       '67', '1', '2', '81', '78'], dtype=object)"
      ]
     },
     "execution_count": 29,
     "metadata": {},
     "output_type": "execute_result"
    }
   ],
   "source": [
    "df['nuevas_edades'].unique()"
   ]
  },
  {
   "cell_type": "code",
   "execution_count": 30,
   "metadata": {},
   "outputs": [
    {
     "data": {
      "text/html": [
       "<div>\n",
       "<style scoped>\n",
       "    .dataframe tbody tr th:only-of-type {\n",
       "        vertical-align: middle;\n",
       "    }\n",
       "\n",
       "    .dataframe tbody tr th {\n",
       "        vertical-align: top;\n",
       "    }\n",
       "\n",
       "    .dataframe thead th {\n",
       "        text-align: right;\n",
       "    }\n",
       "</style>\n",
       "<table border=\"1\" class=\"dataframe\">\n",
       "  <thead>\n",
       "    <tr style=\"text-align: right;\">\n",
       "      <th></th>\n",
       "      <th>case_number</th>\n",
       "      <th>year</th>\n",
       "      <th>country</th>\n",
       "      <th>activity</th>\n",
       "      <th>age</th>\n",
       "      <th>species_</th>\n",
       "      <th>date</th>\n",
       "      <th>mes</th>\n",
       "      <th>fatal_</th>\n",
       "      <th>sex2</th>\n",
       "      <th>nuevas_edades</th>\n",
       "    </tr>\n",
       "  </thead>\n",
       "  <tbody>\n",
       "    <tr>\n",
       "      <th>2138</th>\n",
       "      <td>2001.02.11</td>\n",
       "      <td>2001</td>\n",
       "      <td>malaysia</td>\n",
       "      <td>Unknown</td>\n",
       "      <td>NAN</td>\n",
       "      <td>Unspecified</td>\n",
       "      <td>11-Feb-2001</td>\n",
       "      <td>Feb</td>\n",
       "      <td>NAN</td>\n",
       "      <td>F</td>\n",
       "      <td>NaN</td>\n",
       "    </tr>\n",
       "    <tr>\n",
       "      <th>1440</th>\n",
       "      <td>2008.04.09.R</td>\n",
       "      <td>2008</td>\n",
       "      <td>fiji</td>\n",
       "      <td>Spearfishing</td>\n",
       "      <td>NAN</td>\n",
       "      <td>NAN</td>\n",
       "      <td>Reported 09-Apr-2008</td>\n",
       "      <td>Apr</td>\n",
       "      <td>n</td>\n",
       "      <td>M</td>\n",
       "      <td>NaN</td>\n",
       "    </tr>\n",
       "    <tr>\n",
       "      <th>545</th>\n",
       "      <td>2015.08.19</td>\n",
       "      <td>2015</td>\n",
       "      <td>usa</td>\n",
       "      <td>Walking</td>\n",
       "      <td>10</td>\n",
       "      <td>Unspecified</td>\n",
       "      <td>19-Aug-2015</td>\n",
       "      <td>Aug</td>\n",
       "      <td>n</td>\n",
       "      <td>F</td>\n",
       "      <td>10</td>\n",
       "    </tr>\n",
       "    <tr>\n",
       "      <th>4220</th>\n",
       "      <td>1959.09.10.R</td>\n",
       "      <td>1959</td>\n",
       "      <td>india</td>\n",
       "      <td>NAN</td>\n",
       "      <td>NAN</td>\n",
       "      <td>Unspecified</td>\n",
       "      <td>Reported 10-Sep-1959</td>\n",
       "      <td>Sep</td>\n",
       "      <td>y</td>\n",
       "      <td>NAN</td>\n",
       "      <td>NaN</td>\n",
       "    </tr>\n",
       "    <tr>\n",
       "      <th>6126</th>\n",
       "      <td>1862.00.00.b</td>\n",
       "      <td>1862</td>\n",
       "      <td>usa</td>\n",
       "      <td>NAN</td>\n",
       "      <td>NAN</td>\n",
       "      <td>NAN</td>\n",
       "      <td>Circa 1862</td>\n",
       "      <td>NAN</td>\n",
       "      <td>n</td>\n",
       "      <td>F</td>\n",
       "      <td>NaN</td>\n",
       "    </tr>\n",
       "    <tr>\n",
       "      <th>5681</th>\n",
       "      <td>1902.11.10</td>\n",
       "      <td>1902</td>\n",
       "      <td>australia</td>\n",
       "      <td>Swimming</td>\n",
       "      <td>17</td>\n",
       "      <td>NAN</td>\n",
       "      <td>10-Nov-1902</td>\n",
       "      <td>Nov</td>\n",
       "      <td>y</td>\n",
       "      <td>M</td>\n",
       "      <td>17</td>\n",
       "    </tr>\n",
       "    <tr>\n",
       "      <th>2173</th>\n",
       "      <td>2000.09.12</td>\n",
       "      <td>2000</td>\n",
       "      <td>usa</td>\n",
       "      <td>Surfing</td>\n",
       "      <td>26</td>\n",
       "      <td>NAN</td>\n",
       "      <td>12-Sep-2000</td>\n",
       "      <td>Sep</td>\n",
       "      <td>n</td>\n",
       "      <td>F</td>\n",
       "      <td>26</td>\n",
       "    </tr>\n",
       "    <tr>\n",
       "      <th>3463</th>\n",
       "      <td>1973.03.26</td>\n",
       "      <td>1973</td>\n",
       "      <td>australia</td>\n",
       "      <td>NAN</td>\n",
       "      <td>NAN</td>\n",
       "      <td>NAN</td>\n",
       "      <td>26-Mar-1973</td>\n",
       "      <td>Mar</td>\n",
       "      <td>n</td>\n",
       "      <td>M</td>\n",
       "      <td>NaN</td>\n",
       "    </tr>\n",
       "    <tr>\n",
       "      <th>4003</th>\n",
       "      <td>1962.01.15</td>\n",
       "      <td>1962</td>\n",
       "      <td>new zealand</td>\n",
       "      <td>Spearfishing</td>\n",
       "      <td>44</td>\n",
       "      <td>NAN</td>\n",
       "      <td>15-Jan-1962</td>\n",
       "      <td>Jan</td>\n",
       "      <td>n</td>\n",
       "      <td>M</td>\n",
       "      <td>44</td>\n",
       "    </tr>\n",
       "    <tr>\n",
       "      <th>3075</th>\n",
       "      <td>1983.12.21</td>\n",
       "      <td>1983</td>\n",
       "      <td>south africa</td>\n",
       "      <td>Swimming</td>\n",
       "      <td>47</td>\n",
       "      <td>Unspecified</td>\n",
       "      <td>21-Dec-1983</td>\n",
       "      <td>Dec</td>\n",
       "      <td>n</td>\n",
       "      <td>M</td>\n",
       "      <td>47</td>\n",
       "    </tr>\n",
       "    <tr>\n",
       "      <th>1681</th>\n",
       "      <td>2005.12.20</td>\n",
       "      <td>2005</td>\n",
       "      <td>atlantic ocean</td>\n",
       "      <td>Competing in the Woodvale Atlantic Rowing Race</td>\n",
       "      <td>NAN</td>\n",
       "      <td>Unspecified</td>\n",
       "      <td>20-Dec-2005</td>\n",
       "      <td>Dec</td>\n",
       "      <td>n</td>\n",
       "      <td>NAN</td>\n",
       "      <td>NaN</td>\n",
       "    </tr>\n",
       "    <tr>\n",
       "      <th>5624</th>\n",
       "      <td>1906.09.05.R</td>\n",
       "      <td>1906</td>\n",
       "      <td>australia</td>\n",
       "      <td>Swimming</td>\n",
       "      <td>NAN</td>\n",
       "      <td>NAN</td>\n",
       "      <td>Reported 05-Sep-1906</td>\n",
       "      <td>Sep</td>\n",
       "      <td>y</td>\n",
       "      <td>M</td>\n",
       "      <td>NaN</td>\n",
       "    </tr>\n",
       "    <tr>\n",
       "      <th>3338</th>\n",
       "      <td>1976.07.21</td>\n",
       "      <td>1976</td>\n",
       "      <td>usa</td>\n",
       "      <td>Playing</td>\n",
       "      <td>10</td>\n",
       "      <td>NAN</td>\n",
       "      <td>21-Jul-1976</td>\n",
       "      <td>Jul</td>\n",
       "      <td>n</td>\n",
       "      <td>M</td>\n",
       "      <td>10</td>\n",
       "    </tr>\n",
       "    <tr>\n",
       "      <th>5150</th>\n",
       "      <td>1932.04.16.b</td>\n",
       "      <td>1932</td>\n",
       "      <td>philippines</td>\n",
       "      <td>Standing</td>\n",
       "      <td>NAN</td>\n",
       "      <td>NAN</td>\n",
       "      <td>16-Apr-1932</td>\n",
       "      <td>Apr</td>\n",
       "      <td>y</td>\n",
       "      <td>M</td>\n",
       "      <td>NaN</td>\n",
       "    </tr>\n",
       "    <tr>\n",
       "      <th>5535</th>\n",
       "      <td>1911.10.26</td>\n",
       "      <td>1911</td>\n",
       "      <td>usa</td>\n",
       "      <td>Fell overboard from steamship Rio Grande</td>\n",
       "      <td>NAN</td>\n",
       "      <td>NAN</td>\n",
       "      <td>26-Oct-1911</td>\n",
       "      <td>Oct</td>\n",
       "      <td>y</td>\n",
       "      <td>M</td>\n",
       "      <td>NaN</td>\n",
       "    </tr>\n",
       "    <tr>\n",
       "      <th>2237</th>\n",
       "      <td>2000.02.03</td>\n",
       "      <td>2000</td>\n",
       "      <td>new zealand</td>\n",
       "      <td>Surfing</td>\n",
       "      <td>12</td>\n",
       "      <td>NAN</td>\n",
       "      <td>03-Feb-2000</td>\n",
       "      <td>Feb</td>\n",
       "      <td>n</td>\n",
       "      <td>M</td>\n",
       "      <td>12</td>\n",
       "    </tr>\n",
       "    <tr>\n",
       "      <th>5570</th>\n",
       "      <td>1909.07.24</td>\n",
       "      <td>1909</td>\n",
       "      <td>usa</td>\n",
       "      <td>Fell overboard while fishing for sharks</td>\n",
       "      <td>NAN</td>\n",
       "      <td>NAN</td>\n",
       "      <td>24-Jul-1909</td>\n",
       "      <td>Jul</td>\n",
       "      <td>n</td>\n",
       "      <td>M</td>\n",
       "      <td>NaN</td>\n",
       "    </tr>\n",
       "    <tr>\n",
       "      <th>4254</th>\n",
       "      <td>1959.05.03</td>\n",
       "      <td>1959</td>\n",
       "      <td>usa</td>\n",
       "      <td>Spearfishing</td>\n",
       "      <td>19</td>\n",
       "      <td>Tiger</td>\n",
       "      <td>03-May-1959</td>\n",
       "      <td>May</td>\n",
       "      <td>n</td>\n",
       "      <td>M</td>\n",
       "      <td>19</td>\n",
       "    </tr>\n",
       "    <tr>\n",
       "      <th>2688</th>\n",
       "      <td>1992.11.05.b</td>\n",
       "      <td>1992</td>\n",
       "      <td>usa</td>\n",
       "      <td>Surfing</td>\n",
       "      <td>17</td>\n",
       "      <td>NAN</td>\n",
       "      <td>06-Nov-1992</td>\n",
       "      <td>Nov</td>\n",
       "      <td>n</td>\n",
       "      <td>M</td>\n",
       "      <td>17</td>\n",
       "    </tr>\n",
       "    <tr>\n",
       "      <th>4765</th>\n",
       "      <td>1946.01.24.a</td>\n",
       "      <td>1946</td>\n",
       "      <td>south africa</td>\n",
       "      <td>Swimming</td>\n",
       "      <td>NAN</td>\n",
       "      <td>NAN</td>\n",
       "      <td>24-Jan-1946</td>\n",
       "      <td>Jan</td>\n",
       "      <td>n</td>\n",
       "      <td>M</td>\n",
       "      <td>NaN</td>\n",
       "    </tr>\n",
       "  </tbody>\n",
       "</table>\n",
       "</div>"
      ],
      "text/plain": [
       "       case_number  year         country  \\\n",
       "2138    2001.02.11  2001        malaysia   \n",
       "1440  2008.04.09.R  2008            fiji   \n",
       "545     2015.08.19  2015             usa   \n",
       "4220  1959.09.10.R  1959           india   \n",
       "6126  1862.00.00.b  1862             usa   \n",
       "5681    1902.11.10  1902       australia   \n",
       "2173    2000.09.12  2000             usa   \n",
       "3463    1973.03.26  1973       australia   \n",
       "4003    1962.01.15  1962     new zealand   \n",
       "3075    1983.12.21  1983    south africa   \n",
       "1681    2005.12.20  2005  atlantic ocean   \n",
       "5624  1906.09.05.R  1906       australia   \n",
       "3338    1976.07.21  1976             usa   \n",
       "5150  1932.04.16.b  1932     philippines   \n",
       "5535    1911.10.26  1911             usa   \n",
       "2237    2000.02.03  2000     new zealand   \n",
       "5570    1909.07.24  1909             usa   \n",
       "4254    1959.05.03  1959             usa   \n",
       "2688  1992.11.05.b  1992             usa   \n",
       "4765  1946.01.24.a  1946    south africa   \n",
       "\n",
       "                                            activity  age     species_  \\\n",
       "2138                                         Unknown  NAN  Unspecified   \n",
       "1440                                    Spearfishing  NAN          NAN   \n",
       "545                                          Walking   10  Unspecified   \n",
       "4220                                             NAN  NAN  Unspecified   \n",
       "6126                                             NAN  NAN          NAN   \n",
       "5681                                        Swimming   17          NAN   \n",
       "2173                                         Surfing   26          NAN   \n",
       "3463                                             NAN  NAN          NAN   \n",
       "4003                                    Spearfishing   44          NAN   \n",
       "3075                                        Swimming   47  Unspecified   \n",
       "1681  Competing in the Woodvale Atlantic Rowing Race  NAN  Unspecified   \n",
       "5624                                        Swimming  NAN          NAN   \n",
       "3338                                         Playing   10          NAN   \n",
       "5150                                        Standing  NAN          NAN   \n",
       "5535        Fell overboard from steamship Rio Grande  NAN          NAN   \n",
       "2237                                         Surfing   12          NAN   \n",
       "5570         Fell overboard while fishing for sharks  NAN          NAN   \n",
       "4254                                    Spearfishing   19        Tiger   \n",
       "2688                                         Surfing   17          NAN   \n",
       "4765                                        Swimming  NAN          NAN   \n",
       "\n",
       "                      date  mes fatal_ sex2 nuevas_edades  \n",
       "2138           11-Feb-2001  Feb    NAN    F           NaN  \n",
       "1440  Reported 09-Apr-2008  Apr      n    M           NaN  \n",
       "545            19-Aug-2015  Aug      n    F            10  \n",
       "4220  Reported 10-Sep-1959  Sep      y  NAN           NaN  \n",
       "6126            Circa 1862  NAN      n    F           NaN  \n",
       "5681           10-Nov-1902  Nov      y    M            17  \n",
       "2173           12-Sep-2000  Sep      n    F            26  \n",
       "3463           26-Mar-1973  Mar      n    M           NaN  \n",
       "4003           15-Jan-1962  Jan      n    M            44  \n",
       "3075           21-Dec-1983  Dec      n    M            47  \n",
       "1681           20-Dec-2005  Dec      n  NAN           NaN  \n",
       "5624  Reported 05-Sep-1906  Sep      y    M           NaN  \n",
       "3338           21-Jul-1976  Jul      n    M            10  \n",
       "5150           16-Apr-1932  Apr      y    M           NaN  \n",
       "5535           26-Oct-1911  Oct      y    M           NaN  \n",
       "2237           03-Feb-2000  Feb      n    M            12  \n",
       "5570           24-Jul-1909  Jul      n    M           NaN  \n",
       "4254           03-May-1959  May      n    M            19  \n",
       "2688           06-Nov-1992  Nov      n    M            17  \n",
       "4765           24-Jan-1946  Jan      n    M           NaN  "
      ]
     },
     "execution_count": 30,
     "metadata": {},
     "output_type": "execute_result"
    }
   ],
   "source": [
    "df.sample(20)"
   ]
  },
  {
   "cell_type": "code",
   "execution_count": 31,
   "metadata": {},
   "outputs": [],
   "source": [
    "def cambiar_int(x):\n",
    "    if type(x) == str:\n",
    "        return int(x)\n",
    "    else:\n",
    "        return x"
   ]
  },
  {
   "cell_type": "code",
   "execution_count": 32,
   "metadata": {},
   "outputs": [],
   "source": [
    "df['nuevas_edades']=df['nuevas_edades'].apply(cambiar_int)"
   ]
  },
  {
   "cell_type": "code",
   "execution_count": 33,
   "metadata": {},
   "outputs": [
    {
     "data": {
      "text/plain": [
       "array([nan, 14., 19., 20., 15., 21., 27., 36., 25.,  6., 16., 50., 13.,\n",
       "       57., 11., 48., 18., 52., 12., 32., 10., 34., 30., 60., 33., 29.,\n",
       "       54., 41., 37., 56., 69., 38., 55., 35., 46., 45., 40., 28., 24.,\n",
       "       26., 49., 22.,  7., 31., 17., 42.,  3.,  8., 82., 73., 68., 51.,\n",
       "       39., 58., 47., 61., 65., 66., 43.,  9., 72., 59., 64., 23., 71.,\n",
       "       44., 62., 63., 70., 53., 77., 74.,  5., 86., 84., 75., 87., 67.,\n",
       "        1.,  2., 81., 78.])"
      ]
     },
     "execution_count": 33,
     "metadata": {},
     "output_type": "execute_result"
    }
   ],
   "source": [
    "df['nuevas_edades'].unique()"
   ]
  },
  {
   "cell_type": "code",
   "execution_count": 35,
   "metadata": {},
   "outputs": [],
   "source": [
    "df= df.apply(lambda x: x.replace('NAN', np.nan))"
   ]
  },
  {
   "cell_type": "code",
   "execution_count": 36,
   "metadata": {},
   "outputs": [
    {
     "data": {
      "text/plain": [
       "case_number         1\n",
       "year                0\n",
       "country            50\n",
       "activity          542\n",
       "age              2820\n",
       "species_         2831\n",
       "date                0\n",
       "mes               570\n",
       "fatal_            607\n",
       "sex2              564\n",
       "nuevas_edades    2860\n",
       "dtype: int64"
      ]
     },
     "execution_count": 36,
     "metadata": {},
     "output_type": "execute_result"
    }
   ],
   "source": [
    "df.isnull().sum()"
   ]
  },
  {
   "cell_type": "markdown",
   "metadata": {},
   "source": [
    "3 Guarda el csv con las columnas limpias para seguir trabajando con este dataframe limpio"
   ]
  },
  {
   "cell_type": "code",
   "execution_count": 37,
   "metadata": {},
   "outputs": [],
   "source": [
    "df.to_csv(\"../Ficheros/attack_limpieza2.csv\")"
   ]
  }
 ],
 "metadata": {
  "kernelspec": {
   "display_name": "Python 3.9.7 ('base')",
   "language": "python",
   "name": "python3"
  },
  "language_info": {
   "codemirror_mode": {
    "name": "ipython",
    "version": 3
   },
   "file_extension": ".py",
   "mimetype": "text/x-python",
   "name": "python",
   "nbconvert_exporter": "python",
   "pygments_lexer": "ipython3",
   "version": "3.9.7"
  },
  "orig_nbformat": 4,
  "vscode": {
   "interpreter": {
    "hash": "fd3399778ecca89ccfd38c8963bbc048ff3198ccc7f9219d1f9dd0c6b6412bb5"
   }
  }
 },
 "nbformat": 4,
 "nbformat_minor": 2
}
